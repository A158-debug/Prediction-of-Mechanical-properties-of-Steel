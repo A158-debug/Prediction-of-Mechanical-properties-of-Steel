{
  "cells": [
    {
      "cell_type": "markdown",
      "metadata": {
        "id": "ltEtv_g-4Wxj"
      },
      "source": [
        "#Importing Libraries\n"
      ]
    },
    {
      "cell_type": "markdown",
      "metadata": {
        "id": "XDxVgfQlSmqR"
      },
      "source": [
        "####Basic"
      ]
    },
    {
      "cell_type": "code",
      "execution_count": null,
      "metadata": {
        "id": "d-AYftMRSlu1"
      },
      "outputs": [],
      "source": [
        "import numpy as np\n",
        "import pandas as pd"
      ]
    },
    {
      "cell_type": "markdown",
      "metadata": {
        "id": "eZ62nZJ_Y_fg"
      },
      "source": [
        "####Visualization"
      ]
    },
    {
      "cell_type": "code",
      "execution_count": null,
      "metadata": {
        "id": "nCehgsBR2LbG"
      },
      "outputs": [],
      "source": [
        "##Seaborn is a library for making statistical graphics in Python.\n",
        "import seaborn as sns\n",
        "import matplotlib.pyplot as plt"
      ]
    },
    {
      "cell_type": "markdown",
      "metadata": {
        "id": "Pdm-XGViS7tg"
      },
      "source": [
        "####Data-Preprocessing"
      ]
    },
    {
      "cell_type": "code",
      "execution_count": null,
      "metadata": {
        "id": "J36Ayj7QS-ty"
      },
      "outputs": [],
      "source": [
        "from sklearn.model_selection import train_test_split\n",
        "from sklearn.preprocessing import MinMaxScaler\n",
        "#The MinMaxscaler is a type of scaler that scales the minimum and maximum values to be 0 and 1 respectively."
      ]
    },
    {
      "cell_type": "markdown",
      "metadata": {
        "id": "9fTC8ATkZCn1"
      },
      "source": [
        "##Importing Various Models"
      ]
    },
    {
      "cell_type": "code",
      "execution_count": null,
      "metadata": {
        "id": "6bYQFRUrYms4"
      },
      "outputs": [],
      "source": [
        "from sklearn.multioutput import MultiOutputRegressor\n",
        "from sklearn.linear_model import LinearRegression, RidgeCV, SGDRegressor,MultiTaskLasso,MultiTaskElasticNet\n",
        "from sklearn.svm import SVR\n",
        "from sklearn.neural_network import MLPRegressor\n",
        "from sklearn.neighbors import KNeighborsRegressor\n",
        "from sklearn.tree import DecisionTreeRegressor\n",
        "from sklearn.ensemble import RandomForestRegressor, AdaBoostRegressor, GradientBoostingRegressor,HistGradientBoostingRegressor"
      ]
    },
    {
      "cell_type": "markdown",
      "metadata": {
        "id": "HHP_hwR6TGAr"
      },
      "source": [
        "####Evaluation"
      ]
    },
    {
      "cell_type": "code",
      "execution_count": null,
      "metadata": {
        "id": "YU5jL9spTFGE"
      },
      "outputs": [],
      "source": [
        "from sklearn.metrics import mean_squared_error, r2_score, mean_absolute_error"
      ]
    },
    {
      "cell_type": "markdown",
      "metadata": {
        "id": "_TIspPVs4KAo"
      },
      "source": [
        "#Importing Dataset from local drive"
      ]
    },
    {
      "cell_type": "code",
      "execution_count": null,
      "metadata": {
        "colab": {
          "base_uri": "https://localhost:8080/"
        },
        "id": "Hc4QDOG-ua6c",
        "outputId": "e291d418-ecf4-4798-f5b3-9dc1b8e42fd9"
      },
      "outputs": [
        {
          "output_type": "stream",
          "name": "stdout",
          "text": [
            "Downloading...\n",
            "From: https://drive.google.com/uc?id=1yCnldMkRuXt-NyI5qETfQbWC9yTZYvo7\n",
            "To: /content/steel_strength.csv\n",
            "\r  0% 0.00/57.8k [00:00<?, ?B/s]\r100% 57.8k/57.8k [00:00<00:00, 42.6MB/s]\n"
          ]
        }
      ],
      "source": [
        "! gdown 1yCnldMkRuXt-NyI5qETfQbWC9yTZYvo7"
      ]
    },
    {
      "cell_type": "code",
      "execution_count": null,
      "metadata": {
        "colab": {
          "base_uri": "https://localhost:8080/",
          "height": 206
        },
        "id": "9gZygbLM4EA0",
        "outputId": "f1083165-0a5a-4875-ae39-73d99edf379c"
      },
      "outputs": [
        {
          "output_type": "execute_result",
          "data": {
            "text/plain": [
              "                                             formula     Fe     c    mn    si  \\\n",
              "0  Fe0.620C0.000953Mn0.000521Si0.00102Cr0.000110N...  60.50  0.02  0.05  0.05   \n",
              "1  Fe0.623C0.00854Mn0.000104Si0.000203Cr0.147Ni0....  60.98  0.18  0.01  0.01   \n",
              "2  Fe0.625Mn0.000102Si0.000200Cr0.0936Ni0.129Mo0....  62.16  0.00  0.01  0.01   \n",
              "3  Fe0.634C0.000478Mn0.000523Si0.00102Cr0.000111N...  61.61  0.01  0.05  0.05   \n",
              "4  Fe0.636C0.000474Mn0.000518Si0.00101Cr0.000109N...  62.43  0.01  0.05  0.05   \n",
              "\n",
              "      cr     ni    mo     v     n    nb     co     w    al    ti  \\\n",
              "0   0.01  19.70  2.95  0.01  0.00  0.01  15.00  0.00  0.15  1.55   \n",
              "1  13.44   0.01  3.01  0.46  0.04  0.01  19.46  2.35  0.04  0.00   \n",
              "2   8.67  13.45  0.82  0.01  0.00  0.01  13.90  0.00  0.39  0.57   \n",
              "3   0.01  17.70  3.95  0.01  0.00  0.01  15.00  0.00  0.13  1.47   \n",
              "4   0.01  19.40  1.45  0.01  0.00  0.01  14.90  0.00  0.13  1.55   \n",
              "\n",
              "   yield strength  tensile strength  elongation  \n",
              "0          2411.5            2473.5         7.0  \n",
              "1          1123.1            1929.2         8.0  \n",
              "2          1736.3            1871.8         NaN  \n",
              "3          2487.3            2514.9         9.0  \n",
              "4          2249.6            2315.0         8.5  "
            ],
            "text/html": [
              "\n",
              "  <div id=\"df-695a77b1-5ced-449a-87a7-325cbe76c0b0\">\n",
              "    <div class=\"colab-df-container\">\n",
              "      <div>\n",
              "<style scoped>\n",
              "    .dataframe tbody tr th:only-of-type {\n",
              "        vertical-align: middle;\n",
              "    }\n",
              "\n",
              "    .dataframe tbody tr th {\n",
              "        vertical-align: top;\n",
              "    }\n",
              "\n",
              "    .dataframe thead th {\n",
              "        text-align: right;\n",
              "    }\n",
              "</style>\n",
              "<table border=\"1\" class=\"dataframe\">\n",
              "  <thead>\n",
              "    <tr style=\"text-align: right;\">\n",
              "      <th></th>\n",
              "      <th>formula</th>\n",
              "      <th>Fe</th>\n",
              "      <th>c</th>\n",
              "      <th>mn</th>\n",
              "      <th>si</th>\n",
              "      <th>cr</th>\n",
              "      <th>ni</th>\n",
              "      <th>mo</th>\n",
              "      <th>v</th>\n",
              "      <th>n</th>\n",
              "      <th>nb</th>\n",
              "      <th>co</th>\n",
              "      <th>w</th>\n",
              "      <th>al</th>\n",
              "      <th>ti</th>\n",
              "      <th>yield strength</th>\n",
              "      <th>tensile strength</th>\n",
              "      <th>elongation</th>\n",
              "    </tr>\n",
              "  </thead>\n",
              "  <tbody>\n",
              "    <tr>\n",
              "      <th>0</th>\n",
              "      <td>Fe0.620C0.000953Mn0.000521Si0.00102Cr0.000110N...</td>\n",
              "      <td>60.50</td>\n",
              "      <td>0.02</td>\n",
              "      <td>0.05</td>\n",
              "      <td>0.05</td>\n",
              "      <td>0.01</td>\n",
              "      <td>19.70</td>\n",
              "      <td>2.95</td>\n",
              "      <td>0.01</td>\n",
              "      <td>0.00</td>\n",
              "      <td>0.01</td>\n",
              "      <td>15.00</td>\n",
              "      <td>0.00</td>\n",
              "      <td>0.15</td>\n",
              "      <td>1.55</td>\n",
              "      <td>2411.5</td>\n",
              "      <td>2473.5</td>\n",
              "      <td>7.0</td>\n",
              "    </tr>\n",
              "    <tr>\n",
              "      <th>1</th>\n",
              "      <td>Fe0.623C0.00854Mn0.000104Si0.000203Cr0.147Ni0....</td>\n",
              "      <td>60.98</td>\n",
              "      <td>0.18</td>\n",
              "      <td>0.01</td>\n",
              "      <td>0.01</td>\n",
              "      <td>13.44</td>\n",
              "      <td>0.01</td>\n",
              "      <td>3.01</td>\n",
              "      <td>0.46</td>\n",
              "      <td>0.04</td>\n",
              "      <td>0.01</td>\n",
              "      <td>19.46</td>\n",
              "      <td>2.35</td>\n",
              "      <td>0.04</td>\n",
              "      <td>0.00</td>\n",
              "      <td>1123.1</td>\n",
              "      <td>1929.2</td>\n",
              "      <td>8.0</td>\n",
              "    </tr>\n",
              "    <tr>\n",
              "      <th>2</th>\n",
              "      <td>Fe0.625Mn0.000102Si0.000200Cr0.0936Ni0.129Mo0....</td>\n",
              "      <td>62.16</td>\n",
              "      <td>0.00</td>\n",
              "      <td>0.01</td>\n",
              "      <td>0.01</td>\n",
              "      <td>8.67</td>\n",
              "      <td>13.45</td>\n",
              "      <td>0.82</td>\n",
              "      <td>0.01</td>\n",
              "      <td>0.00</td>\n",
              "      <td>0.01</td>\n",
              "      <td>13.90</td>\n",
              "      <td>0.00</td>\n",
              "      <td>0.39</td>\n",
              "      <td>0.57</td>\n",
              "      <td>1736.3</td>\n",
              "      <td>1871.8</td>\n",
              "      <td>NaN</td>\n",
              "    </tr>\n",
              "    <tr>\n",
              "      <th>3</th>\n",
              "      <td>Fe0.634C0.000478Mn0.000523Si0.00102Cr0.000111N...</td>\n",
              "      <td>61.61</td>\n",
              "      <td>0.01</td>\n",
              "      <td>0.05</td>\n",
              "      <td>0.05</td>\n",
              "      <td>0.01</td>\n",
              "      <td>17.70</td>\n",
              "      <td>3.95</td>\n",
              "      <td>0.01</td>\n",
              "      <td>0.00</td>\n",
              "      <td>0.01</td>\n",
              "      <td>15.00</td>\n",
              "      <td>0.00</td>\n",
              "      <td>0.13</td>\n",
              "      <td>1.47</td>\n",
              "      <td>2487.3</td>\n",
              "      <td>2514.9</td>\n",
              "      <td>9.0</td>\n",
              "    </tr>\n",
              "    <tr>\n",
              "      <th>4</th>\n",
              "      <td>Fe0.636C0.000474Mn0.000518Si0.00101Cr0.000109N...</td>\n",
              "      <td>62.43</td>\n",
              "      <td>0.01</td>\n",
              "      <td>0.05</td>\n",
              "      <td>0.05</td>\n",
              "      <td>0.01</td>\n",
              "      <td>19.40</td>\n",
              "      <td>1.45</td>\n",
              "      <td>0.01</td>\n",
              "      <td>0.00</td>\n",
              "      <td>0.01</td>\n",
              "      <td>14.90</td>\n",
              "      <td>0.00</td>\n",
              "      <td>0.13</td>\n",
              "      <td>1.55</td>\n",
              "      <td>2249.6</td>\n",
              "      <td>2315.0</td>\n",
              "      <td>8.5</td>\n",
              "    </tr>\n",
              "  </tbody>\n",
              "</table>\n",
              "</div>\n",
              "      <button class=\"colab-df-convert\" onclick=\"convertToInteractive('df-695a77b1-5ced-449a-87a7-325cbe76c0b0')\"\n",
              "              title=\"Convert this dataframe to an interactive table.\"\n",
              "              style=\"display:none;\">\n",
              "        \n",
              "  <svg xmlns=\"http://www.w3.org/2000/svg\" height=\"24px\"viewBox=\"0 0 24 24\"\n",
              "       width=\"24px\">\n",
              "    <path d=\"M0 0h24v24H0V0z\" fill=\"none\"/>\n",
              "    <path d=\"M18.56 5.44l.94 2.06.94-2.06 2.06-.94-2.06-.94-.94-2.06-.94 2.06-2.06.94zm-11 1L8.5 8.5l.94-2.06 2.06-.94-2.06-.94L8.5 2.5l-.94 2.06-2.06.94zm10 10l.94 2.06.94-2.06 2.06-.94-2.06-.94-.94-2.06-.94 2.06-2.06.94z\"/><path d=\"M17.41 7.96l-1.37-1.37c-.4-.4-.92-.59-1.43-.59-.52 0-1.04.2-1.43.59L10.3 9.45l-7.72 7.72c-.78.78-.78 2.05 0 2.83L4 21.41c.39.39.9.59 1.41.59.51 0 1.02-.2 1.41-.59l7.78-7.78 2.81-2.81c.8-.78.8-2.07 0-2.86zM5.41 20L4 18.59l7.72-7.72 1.47 1.35L5.41 20z\"/>\n",
              "  </svg>\n",
              "      </button>\n",
              "      \n",
              "  <style>\n",
              "    .colab-df-container {\n",
              "      display:flex;\n",
              "      flex-wrap:wrap;\n",
              "      gap: 12px;\n",
              "    }\n",
              "\n",
              "    .colab-df-convert {\n",
              "      background-color: #E8F0FE;\n",
              "      border: none;\n",
              "      border-radius: 50%;\n",
              "      cursor: pointer;\n",
              "      display: none;\n",
              "      fill: #1967D2;\n",
              "      height: 32px;\n",
              "      padding: 0 0 0 0;\n",
              "      width: 32px;\n",
              "    }\n",
              "\n",
              "    .colab-df-convert:hover {\n",
              "      background-color: #E2EBFA;\n",
              "      box-shadow: 0px 1px 2px rgba(60, 64, 67, 0.3), 0px 1px 3px 1px rgba(60, 64, 67, 0.15);\n",
              "      fill: #174EA6;\n",
              "    }\n",
              "\n",
              "    [theme=dark] .colab-df-convert {\n",
              "      background-color: #3B4455;\n",
              "      fill: #D2E3FC;\n",
              "    }\n",
              "\n",
              "    [theme=dark] .colab-df-convert:hover {\n",
              "      background-color: #434B5C;\n",
              "      box-shadow: 0px 1px 3px 1px rgba(0, 0, 0, 0.15);\n",
              "      filter: drop-shadow(0px 1px 2px rgba(0, 0, 0, 0.3));\n",
              "      fill: #FFFFFF;\n",
              "    }\n",
              "  </style>\n",
              "\n",
              "      <script>\n",
              "        const buttonEl =\n",
              "          document.querySelector('#df-695a77b1-5ced-449a-87a7-325cbe76c0b0 button.colab-df-convert');\n",
              "        buttonEl.style.display =\n",
              "          google.colab.kernel.accessAllowed ? 'block' : 'none';\n",
              "\n",
              "        async function convertToInteractive(key) {\n",
              "          const element = document.querySelector('#df-695a77b1-5ced-449a-87a7-325cbe76c0b0');\n",
              "          const dataTable =\n",
              "            await google.colab.kernel.invokeFunction('convertToInteractive',\n",
              "                                                     [key], {});\n",
              "          if (!dataTable) return;\n",
              "\n",
              "          const docLinkHtml = 'Like what you see? Visit the ' +\n",
              "            '<a target=\"_blank\" href=https://colab.research.google.com/notebooks/data_table.ipynb>data table notebook</a>'\n",
              "            + ' to learn more about interactive tables.';\n",
              "          element.innerHTML = '';\n",
              "          dataTable['output_type'] = 'display_data';\n",
              "          await google.colab.output.renderOutput(dataTable, element);\n",
              "          const docLink = document.createElement('div');\n",
              "          docLink.innerHTML = docLinkHtml;\n",
              "          element.appendChild(docLink);\n",
              "        }\n",
              "      </script>\n",
              "    </div>\n",
              "  </div>\n",
              "  "
            ]
          },
          "metadata": {},
          "execution_count": 7
        }
      ],
      "source": [
        "df = pd.read_csv(\"/content/steel_strength.csv\")\n",
        "df.head()"
      ]
    },
    {
      "cell_type": "code",
      "execution_count": null,
      "metadata": {
        "id": "kxveqvU3bYoJ"
      },
      "outputs": [],
      "source": [
        "# Droping Formula column\n",
        "df = df.drop(['formula'],axis=1)"
      ]
    },
    {
      "cell_type": "code",
      "execution_count": null,
      "metadata": {
        "colab": {
          "base_uri": "https://localhost:8080/"
        },
        "id": "yMrpgebp9y73",
        "outputId": "3f325baf-07df-46b0-d4e6-725883165f2d"
      },
      "outputs": [
        {
          "output_type": "execute_result",
          "data": {
            "text/plain": [
              "(312, 17)"
            ]
          },
          "metadata": {},
          "execution_count": 9
        }
      ],
      "source": [
        "df.shape"
      ]
    },
    {
      "cell_type": "code",
      "execution_count": null,
      "metadata": {
        "colab": {
          "base_uri": "https://localhost:8080/"
        },
        "id": "qwTS1yYblRR1",
        "outputId": "410f7476-c84e-4251-9a78-8ca7b9fe325a"
      },
      "outputs": [
        {
          "output_type": "stream",
          "name": "stdout",
          "text": [
            "<class 'pandas.core.frame.DataFrame'>\n",
            "RangeIndex: 312 entries, 0 to 311\n",
            "Data columns (total 17 columns):\n",
            " #   Column            Non-Null Count  Dtype  \n",
            "---  ------            --------------  -----  \n",
            " 0   Fe                312 non-null    float64\n",
            " 1   c                 312 non-null    float64\n",
            " 2   mn                312 non-null    float64\n",
            " 3   si                312 non-null    float64\n",
            " 4   cr                312 non-null    float64\n",
            " 5   ni                312 non-null    float64\n",
            " 6   mo                312 non-null    float64\n",
            " 7   v                 312 non-null    float64\n",
            " 8   n                 312 non-null    float64\n",
            " 9   nb                312 non-null    float64\n",
            " 10  co                312 non-null    float64\n",
            " 11  w                 312 non-null    float64\n",
            " 12  al                312 non-null    float64\n",
            " 13  ti                312 non-null    float64\n",
            " 14  yield strength    312 non-null    float64\n",
            " 15  tensile strength  312 non-null    float64\n",
            " 16  elongation        303 non-null    float64\n",
            "dtypes: float64(17)\n",
            "memory usage: 41.6 KB\n"
          ]
        }
      ],
      "source": [
        "df.info()"
      ]
    },
    {
      "cell_type": "code",
      "execution_count": null,
      "metadata": {
        "colab": {
          "base_uri": "https://localhost:8080/"
        },
        "id": "gQamfBj8lpl6",
        "outputId": "2b50ade8-c49d-45c7-aaef-b4dbb28270cf"
      },
      "outputs": [
        {
          "output_type": "execute_result",
          "data": {
            "text/plain": [
              "Fe                  0\n",
              "c                   0\n",
              "mn                  0\n",
              "si                  0\n",
              "cr                  0\n",
              "ni                  0\n",
              "mo                  0\n",
              "v                   0\n",
              "n                   0\n",
              "nb                  0\n",
              "co                  0\n",
              "w                   0\n",
              "al                  0\n",
              "ti                  0\n",
              "yield strength      0\n",
              "tensile strength    0\n",
              "elongation          9\n",
              "dtype: int64"
            ]
          },
          "metadata": {},
          "execution_count": 11
        }
      ],
      "source": [
        "df.isna().sum()"
      ]
    },
    {
      "cell_type": "code",
      "execution_count": null,
      "metadata": {
        "id": "xAxCbAgBWrLH"
      },
      "outputs": [],
      "source": [
        "df = df.fillna(df.mean())"
      ]
    },
    {
      "cell_type": "code",
      "execution_count": null,
      "metadata": {
        "colab": {
          "base_uri": "https://localhost:8080/"
        },
        "id": "MKT2eEDSWw2u",
        "outputId": "e7ebd32b-4f10-4940-db88-9d797cca13b6"
      },
      "outputs": [
        {
          "output_type": "execute_result",
          "data": {
            "text/plain": [
              "Fe                  0\n",
              "c                   0\n",
              "mn                  0\n",
              "si                  0\n",
              "cr                  0\n",
              "ni                  0\n",
              "mo                  0\n",
              "v                   0\n",
              "n                   0\n",
              "nb                  0\n",
              "co                  0\n",
              "w                   0\n",
              "al                  0\n",
              "ti                  0\n",
              "yield strength      0\n",
              "tensile strength    0\n",
              "elongation          0\n",
              "dtype: int64"
            ]
          },
          "metadata": {},
          "execution_count": 13
        }
      ],
      "source": [
        "df.isna().sum()"
      ]
    },
    {
      "cell_type": "code",
      "execution_count": null,
      "metadata": {
        "colab": {
          "base_uri": "https://localhost:8080/"
        },
        "id": "rRS7lBYKW0ue",
        "outputId": "684eaa2c-d09b-400d-8fa3-d88e149c9ec2"
      },
      "outputs": [
        {
          "output_type": "stream",
          "name": "stdout",
          "text": [
            "<class 'pandas.core.frame.DataFrame'>\n",
            "RangeIndex: 312 entries, 0 to 311\n",
            "Data columns (total 17 columns):\n",
            " #   Column            Non-Null Count  Dtype  \n",
            "---  ------            --------------  -----  \n",
            " 0   Fe                312 non-null    float64\n",
            " 1   c                 312 non-null    float64\n",
            " 2   mn                312 non-null    float64\n",
            " 3   si                312 non-null    float64\n",
            " 4   cr                312 non-null    float64\n",
            " 5   ni                312 non-null    float64\n",
            " 6   mo                312 non-null    float64\n",
            " 7   v                 312 non-null    float64\n",
            " 8   n                 312 non-null    float64\n",
            " 9   nb                312 non-null    float64\n",
            " 10  co                312 non-null    float64\n",
            " 11  w                 312 non-null    float64\n",
            " 12  al                312 non-null    float64\n",
            " 13  ti                312 non-null    float64\n",
            " 14  yield strength    312 non-null    float64\n",
            " 15  tensile strength  312 non-null    float64\n",
            " 16  elongation        312 non-null    float64\n",
            "dtypes: float64(17)\n",
            "memory usage: 41.6 KB\n"
          ]
        }
      ],
      "source": [
        "df.info()"
      ]
    },
    {
      "cell_type": "markdown",
      "metadata": {
        "id": "IAYTxem7mgkS"
      },
      "source": [
        "#Correlation among parameters"
      ]
    },
    {
      "cell_type": "code",
      "execution_count": null,
      "metadata": {
        "colab": {
          "base_uri": "https://localhost:8080/",
          "height": 1000
        },
        "id": "IeVDM4ZR4iF1",
        "outputId": "13caa055-d863-4afb-a996-a568e6d268d1"
      },
      "outputs": [
        {
          "output_type": "execute_result",
          "data": {
            "text/plain": [
              "<Axes: >"
            ]
          },
          "metadata": {},
          "execution_count": 15
        },
        {
          "output_type": "display_data",
          "data": {
            "text/plain": [
              "<Figure size 2500x1500 with 2 Axes>"
            ],
            "image/png": "[encoded data removed]"
          },
          "metadata": {}
        }
      ],
      "source": [
        "correlation = df.corr()\n",
        "plt.subplots(figsize=(25,15))\n",
        "sns.heatmap(correlation, xticklabels=correlation.columns, yticklabels=correlation.columns, annot=True, cmap='coolwarm')"
      ]
    },
    {
      "cell_type": "markdown",
      "metadata": {
        "id": "FGDI1u4Rm7U7"
      },
      "source": [
        "#Standardizing the Data"
      ]
    },
    {
      "cell_type": "code",
      "execution_count": null,
      "metadata": {
        "id": "3tLdu2ZsZli8"
      },
      "outputs": [],
      "source": [
        "X = df.iloc[:,0:14] #Feature Columns\n",
        "y = df.iloc[:,14:]  #Target Columns"
      ]
    },
    {
      "cell_type": "code",
      "execution_count": null,
      "metadata": {
        "colab": {
          "base_uri": "https://localhost:8080/",
          "height": 206
        },
        "id": "ijfx-tjOZ8cP",
        "outputId": "025a94cc-a51e-411b-d099-e1d8d8320da8"
      },
      "outputs": [
        {
          "output_type": "execute_result",
          "data": {
            "text/plain": [
              "      Fe     c    mn    si     cr     ni    mo     v     n    nb     co     w  \\\n",
              "0  60.50  0.02  0.05  0.05   0.01  19.70  2.95  0.01  0.00  0.01  15.00  0.00   \n",
              "1  60.98  0.18  0.01  0.01  13.44   0.01  3.01  0.46  0.04  0.01  19.46  2.35   \n",
              "2  62.16  0.00  0.01  0.01   8.67  13.45  0.82  0.01  0.00  0.01  13.90  0.00   \n",
              "3  61.61  0.01  0.05  0.05   0.01  17.70  3.95  0.01  0.00  0.01  15.00  0.00   \n",
              "4  62.43  0.01  0.05  0.05   0.01  19.40  1.45  0.01  0.00  0.01  14.90  0.00   \n",
              "\n",
              "     al    ti  \n",
              "0  0.15  1.55  \n",
              "1  0.04  0.00  \n",
              "2  0.39  0.57  \n",
              "3  0.13  1.47  \n",
              "4  0.13  1.55  "
            ],
            "text/html": [
              "\n",
              "  <div id=\"df-13b21140-7796-45ca-91ab-a15876c6bb99\">\n",
              "    <div class=\"colab-df-container\">\n",
              "      <div>\n",
              "<style scoped>\n",
              "    .dataframe tbody tr th:only-of-type {\n",
              "        vertical-align: middle;\n",
              "    }\n",
              "\n",
              "    .dataframe tbody tr th {\n",
              "        vertical-align: top;\n",
              "    }\n",
              "\n",
              "    .dataframe thead th {\n",
              "        text-align: right;\n",
              "    }\n",
              "</style>\n",
              "<table border=\"1\" class=\"dataframe\">\n",
              "  <thead>\n",
              "    <tr style=\"text-align: right;\">\n",
              "      <th></th>\n",
              "      <th>Fe</th>\n",
              "      <th>c</th>\n",
              "      <th>mn</th>\n",
              "      <th>si</th>\n",
              "      <th>cr</th>\n",
              "      <th>ni</th>\n",
              "      <th>mo</th>\n",
              "      <th>v</th>\n",
              "      <th>n</th>\n",
              "      <th>nb</th>\n",
              "      <th>co</th>\n",
              "      <th>w</th>\n",
              "      <th>al</th>\n",
              "      <th>ti</th>\n",
              "    </tr>\n",
              "  </thead>\n",
              "  <tbody>\n",
              "    <tr>\n",
              "      <th>0</th>\n",
              "      <td>60.50</td>\n",
              "      <td>0.02</td>\n",
              "      <td>0.05</td>\n",
              "      <td>0.05</td>\n",
              "      <td>0.01</td>\n",
              "      <td>19.70</td>\n",
              "      <td>2.95</td>\n",
              "      <td>0.01</td>\n",
              "      <td>0.00</td>\n",
              "      <td>0.01</td>\n",
              "      <td>15.00</td>\n",
              "      <td>0.00</td>\n",
              "      <td>0.15</td>\n",
              "      <td>1.55</td>\n",
              "    </tr>\n",
              "    <tr>\n",
              "      <th>1</th>\n",
              "      <td>60.98</td>\n",
              "      <td>0.18</td>\n",
              "      <td>0.01</td>\n",
              "      <td>0.01</td>\n",
              "      <td>13.44</td>\n",
              "      <td>0.01</td>\n",
              "      <td>3.01</td>\n",
              "      <td>0.46</td>\n",
              "      <td>0.04</td>\n",
              "      <td>0.01</td>\n",
              "      <td>19.46</td>\n",
              "      <td>2.35</td>\n",
              "      <td>0.04</td>\n",
              "      <td>0.00</td>\n",
              "    </tr>\n",
              "    <tr>\n",
              "      <th>2</th>\n",
              "      <td>62.16</td>\n",
              "      <td>0.00</td>\n",
              "      <td>0.01</td>\n",
              "      <td>0.01</td>\n",
              "      <td>8.67</td>\n",
              "      <td>13.45</td>\n",
              "      <td>0.82</td>\n",
              "      <td>0.01</td>\n",
              "      <td>0.00</td>\n",
              "      <td>0.01</td>\n",
              "      <td>13.90</td>\n",
              "      <td>0.00</td>\n",
              "      <td>0.39</td>\n",
              "      <td>0.57</td>\n",
              "    </tr>\n",
              "    <tr>\n",
              "      <th>3</th>\n",
              "      <td>61.61</td>\n",
              "      <td>0.01</td>\n",
              "      <td>0.05</td>\n",
              "      <td>0.05</td>\n",
              "      <td>0.01</td>\n",
              "      <td>17.70</td>\n",
              "      <td>3.95</td>\n",
              "      <td>0.01</td>\n",
              "      <td>0.00</td>\n",
              "      <td>0.01</td>\n",
              "      <td>15.00</td>\n",
              "      <td>0.00</td>\n",
              "      <td>0.13</td>\n",
              "      <td>1.47</td>\n",
              "    </tr>\n",
              "    <tr>\n",
              "      <th>4</th>\n",
              "      <td>62.43</td>\n",
              "      <td>0.01</td>\n",
              "      <td>0.05</td>\n",
              "      <td>0.05</td>\n",
              "      <td>0.01</td>\n",
              "      <td>19.40</td>\n",
              "      <td>1.45</td>\n",
              "      <td>0.01</td>\n",
              "      <td>0.00</td>\n",
              "      <td>0.01</td>\n",
              "      <td>14.90</td>\n",
              "      <td>0.00</td>\n",
              "      <td>0.13</td>\n",
              "      <td>1.55</td>\n",
              "    </tr>\n",
              "  </tbody>\n",
              "</table>\n",
              "</div>\n",
              "      <button class=\"colab-df-convert\" onclick=\"convertToInteractive('df-13b21140-7796-45ca-91ab-a15876c6bb99')\"\n",
              "              title=\"Convert this dataframe to an interactive table.\"\n",
              "              style=\"display:none;\">\n",
              "        \n",
              "  <svg xmlns=\"http://www.w3.org/2000/svg\" height=\"24px\"viewBox=\"0 0 24 24\"\n",
              "       width=\"24px\">\n",
              "    <path d=\"M0 0h24v24H0V0z\" fill=\"none\"/>\n",
              "    <path d=\"M18.56 5.44l.94 2.06.94-2.06 2.06-.94-2.06-.94-.94-2.06-.94 2.06-2.06.94zm-11 1L8.5 8.5l.94-2.06 2.06-.94-2.06-.94L8.5 2.5l-.94 2.06-2.06.94zm10 10l.94 2.06.94-2.06 2.06-.94-2.06-.94-.94-2.06-.94 2.06-2.06.94z\"/><path d=\"M17.41 7.96l-1.37-1.37c-.4-.4-.92-.59-1.43-.59-.52 0-1.04.2-1.43.59L10.3 9.45l-7.72 7.72c-.78.78-.78 2.05 0 2.83L4 21.41c.39.39.9.59 1.41.59.51 0 1.02-.2 1.41-.59l7.78-7.78 2.81-2.81c.8-.78.8-2.07 0-2.86zM5.41 20L4 18.59l7.72-7.72 1.47 1.35L5.41 20z\"/>\n",
              "  </svg>\n",
              "      </button>\n",
              "      \n",
              "  <style>\n",
              "    .colab-df-container {\n",
              "      display:flex;\n",
              "      flex-wrap:wrap;\n",
              "      gap: 12px;\n",
              "    }\n",
              "\n",
              "    .colab-df-convert {\n",
              "      background-color: #E8F0FE;\n",
              "      border: none;\n",
              "      border-radius: 50%;\n",
              "      cursor: pointer;\n",
              "      display: none;\n",
              "      fill: #1967D2;\n",
              "      height: 32px;\n",
              "      padding: 0 0 0 0;\n",
              "      width: 32px;\n",
              "    }\n",
              "\n",
              "    .colab-df-convert:hover {\n",
              "      background-color: #E2EBFA;\n",
              "      box-shadow: 0px 1px 2px rgba(60, 64, 67, 0.3), 0px 1px 3px 1px rgba(60, 64, 67, 0.15);\n",
              "      fill: #174EA6;\n",
              "    }\n",
              "\n",
              "    [theme=dark] .colab-df-convert {\n",
              "      background-color: #3B4455;\n",
              "      fill: #D2E3FC;\n",
              "    }\n",
              "\n",
              "    [theme=dark] .colab-df-convert:hover {\n",
              "      background-color: #434B5C;\n",
              "      box-shadow: 0px 1px 3px 1px rgba(0, 0, 0, 0.15);\n",
              "      filter: drop-shadow(0px 1px 2px rgba(0, 0, 0, 0.3));\n",
              "      fill: #FFFFFF;\n",
              "    }\n",
              "  </style>\n",
              "\n",
              "      <script>\n",
              "        const buttonEl =\n",
              "          document.querySelector('#df-13b21140-7796-45ca-91ab-a15876c6bb99 button.colab-df-convert');\n",
              "        buttonEl.style.display =\n",
              "          google.colab.kernel.accessAllowed ? 'block' : 'none';\n",
              "\n",
              "        async function convertToInteractive(key) {\n",
              "          const element = document.querySelector('#df-13b21140-7796-45ca-91ab-a15876c6bb99');\n",
              "          const dataTable =\n",
              "            await google.colab.kernel.invokeFunction('convertToInteractive',\n",
              "                                                     [key], {});\n",
              "          if (!dataTable) return;\n",
              "\n",
              "          const docLinkHtml = 'Like what you see? Visit the ' +\n",
              "            '<a target=\"_blank\" href=https://colab.research.google.com/notebooks/data_table.ipynb>data table notebook</a>'\n",
              "            + ' to learn more about interactive tables.';\n",
              "          element.innerHTML = '';\n",
              "          dataTable['output_type'] = 'display_data';\n",
              "          await google.colab.output.renderOutput(dataTable, element);\n",
              "          const docLink = document.createElement('div');\n",
              "          docLink.innerHTML = docLinkHtml;\n",
              "          element.appendChild(docLink);\n",
              "        }\n",
              "      </script>\n",
              "    </div>\n",
              "  </div>\n",
              "  "
            ]
          },
          "metadata": {},
          "execution_count": 17
        }
      ],
      "source": [
        "X.head()"
      ]
    },
    {
      "cell_type": "code",
      "execution_count": null,
      "metadata": {
        "colab": {
          "base_uri": "https://localhost:8080/",
          "height": 206
        },
        "id": "hzS0DdhPZ-29",
        "outputId": "861a3d64-7721-41d6-8b98-2ea64637e30e"
      },
      "outputs": [
        {
          "output_type": "execute_result",
          "data": {
            "text/plain": [
              "   yield strength  tensile strength  elongation\n",
              "0          2411.5            2473.5    7.000000\n",
              "1          1123.1            1929.2    8.000000\n",
              "2          1736.3            1871.8   14.007261\n",
              "3          2487.3            2514.9    9.000000\n",
              "4          2249.6            2315.0    8.500000"
            ],
            "text/html": [
              "\n",
              "  <div id=\"df-b6f5269d-3440-407a-9aa2-f1480ce6fea7\">\n",
              "    <div class=\"colab-df-container\">\n",
              "      <div>\n",
              "<style scoped>\n",
              "    .dataframe tbody tr th:only-of-type {\n",
              "        vertical-align: middle;\n",
              "    }\n",
              "\n",
              "    .dataframe tbody tr th {\n",
              "        vertical-align: top;\n",
              "    }\n",
              "\n",
              "    .dataframe thead th {\n",
              "        text-align: right;\n",
              "    }\n",
              "</style>\n",
              "<table border=\"1\" class=\"dataframe\">\n",
              "  <thead>\n",
              "    <tr style=\"text-align: right;\">\n",
              "      <th></th>\n",
              "      <th>yield strength</th>\n",
              "      <th>tensile strength</th>\n",
              "      <th>elongation</th>\n",
              "    </tr>\n",
              "  </thead>\n",
              "  <tbody>\n",
              "    <tr>\n",
              "      <th>0</th>\n",
              "      <td>2411.5</td>\n",
              "      <td>2473.5</td>\n",
              "      <td>7.000000</td>\n",
              "    </tr>\n",
              "    <tr>\n",
              "      <th>1</th>\n",
              "      <td>1123.1</td>\n",
              "      <td>1929.2</td>\n",
              "      <td>8.000000</td>\n",
              "    </tr>\n",
              "    <tr>\n",
              "      <th>2</th>\n",
              "      <td>1736.3</td>\n",
              "      <td>1871.8</td>\n",
              "      <td>14.007261</td>\n",
              "    </tr>\n",
              "    <tr>\n",
              "      <th>3</th>\n",
              "      <td>2487.3</td>\n",
              "      <td>2514.9</td>\n",
              "      <td>9.000000</td>\n",
              "    </tr>\n",
              "    <tr>\n",
              "      <th>4</th>\n",
              "      <td>2249.6</td>\n",
              "      <td>2315.0</td>\n",
              "      <td>8.500000</td>\n",
              "    </tr>\n",
              "  </tbody>\n",
              "</table>\n",
              "</div>\n",
              "      <button class=\"colab-df-convert\" onclick=\"convertToInteractive('df-b6f5269d-3440-407a-9aa2-f1480ce6fea7')\"\n",
              "              title=\"Convert this dataframe to an interactive table.\"\n",
              "              style=\"display:none;\">\n",
              "        \n",
              "  <svg xmlns=\"http://www.w3.org/2000/svg\" height=\"24px\"viewBox=\"0 0 24 24\"\n",
              "       width=\"24px\">\n",
              "    <path d=\"M0 0h24v24H0V0z\" fill=\"none\"/>\n",
              "    <path d=\"M18.56 5.44l.94 2.06.94-2.06 2.06-.94-2.06-.94-.94-2.06-.94 2.06-2.06.94zm-11 1L8.5 8.5l.94-2.06 2.06-.94-2.06-.94L8.5 2.5l-.94 2.06-2.06.94zm10 10l.94 2.06.94-2.06 2.06-.94-2.06-.94-.94-2.06-.94 2.06-2.06.94z\"/><path d=\"M17.41 7.96l-1.37-1.37c-.4-.4-.92-.59-1.43-.59-.52 0-1.04.2-1.43.59L10.3 9.45l-7.72 7.72c-.78.78-.78 2.05 0 2.83L4 21.41c.39.39.9.59 1.41.59.51 0 1.02-.2 1.41-.59l7.78-7.78 2.81-2.81c.8-.78.8-2.07 0-2.86zM5.41 20L4 18.59l7.72-7.72 1.47 1.35L5.41 20z\"/>\n",
              "  </svg>\n",
              "      </button>\n",
              "      \n",
              "  <style>\n",
              "    .colab-df-container {\n",
              "      display:flex;\n",
              "      flex-wrap:wrap;\n",
              "      gap: 12px;\n",
              "    }\n",
              "\n",
              "    .colab-df-convert {\n",
              "      background-color: #E8F0FE;\n",
              "      border: none;\n",
              "      border-radius: 50%;\n",
              "      cursor: pointer;\n",
              "      display: none;\n",
              "      fill: #1967D2;\n",
              "      height: 32px;\n",
              "      padding: 0 0 0 0;\n",
              "      width: 32px;\n",
              "    }\n",
              "\n",
              "    .colab-df-convert:hover {\n",
              "      background-color: #E2EBFA;\n",
              "      box-shadow: 0px 1px 2px rgba(60, 64, 67, 0.3), 0px 1px 3px 1px rgba(60, 64, 67, 0.15);\n",
              "      fill: #174EA6;\n",
              "    }\n",
              "\n",
              "    [theme=dark] .colab-df-convert {\n",
              "      background-color: #3B4455;\n",
              "      fill: #D2E3FC;\n",
              "    }\n",
              "\n",
              "    [theme=dark] .colab-df-convert:hover {\n",
              "      background-color: #434B5C;\n",
              "      box-shadow: 0px 1px 3px 1px rgba(0, 0, 0, 0.15);\n",
              "      filter: drop-shadow(0px 1px 2px rgba(0, 0, 0, 0.3));\n",
              "      fill: #FFFFFF;\n",
              "    }\n",
              "  </style>\n",
              "\n",
              "      <script>\n",
              "        const buttonEl =\n",
              "          document.querySelector('#df-b6f5269d-3440-407a-9aa2-f1480ce6fea7 button.colab-df-convert');\n",
              "        buttonEl.style.display =\n",
              "          google.colab.kernel.accessAllowed ? 'block' : 'none';\n",
              "\n",
              "        async function convertToInteractive(key) {\n",
              "          const element = document.querySelector('#df-b6f5269d-3440-407a-9aa2-f1480ce6fea7');\n",
              "          const dataTable =\n",
              "            await google.colab.kernel.invokeFunction('convertToInteractive',\n",
              "                                                     [key], {});\n",
              "          if (!dataTable) return;\n",
              "\n",
              "          const docLinkHtml = 'Like what you see? Visit the ' +\n",
              "            '<a target=\"_blank\" href=https://colab.research.google.com/notebooks/data_table.ipynb>data table notebook</a>'\n",
              "            + ' to learn more about interactive tables.';\n",
              "          element.innerHTML = '';\n",
              "          dataTable['output_type'] = 'display_data';\n",
              "          await google.colab.output.renderOutput(dataTable, element);\n",
              "          const docLink = document.createElement('div');\n",
              "          docLink.innerHTML = docLinkHtml;\n",
              "          element.appendChild(docLink);\n",
              "        }\n",
              "      </script>\n",
              "    </div>\n",
              "  </div>\n",
              "  "
            ]
          },
          "metadata": {},
          "execution_count": 18
        }
      ],
      "source": [
        "y.head()"
      ]
    },
    {
      "cell_type": "markdown",
      "metadata": {
        "id": "r8uCLeg4nPPQ"
      },
      "source": [
        "Scaling of data"
      ]
    },
    {
      "cell_type": "code",
      "execution_count": null,
      "metadata": {
        "id": "m56GX3FIask_"
      },
      "outputs": [],
      "source": [
        "sc = MinMaxScaler()\n",
        "X_scaled = pd.DataFrame(sc.fit_transform(X),columns=X.columns);\n",
        "y_scaled = pd.DataFrame(sc.fit_transform(y),columns=y.columns);"
      ]
    },
    {
      "cell_type": "code",
      "execution_count": null,
      "metadata": {
        "colab": {
          "base_uri": "https://localhost:8080/",
          "height": 206
        },
        "id": "fLnKO2k3yo1f",
        "outputId": "07347f26-1662-43ab-eb6a-0954a8280e22"
      },
      "outputs": [
        {
          "output_type": "execute_result",
          "data": {
            "text/plain": [
              "         Fe         c        mn        si        cr        ni        mo  \\\n",
              "0  0.000000  0.046512  0.013378  0.008439  0.000000  0.938066  0.303627   \n",
              "1  0.018634  0.418605  0.000000  0.000000  0.767867  0.000000  0.309845   \n",
              "2  0.064441  0.000000  0.000000  0.000000  0.495140  0.640305  0.082902   \n",
              "3  0.043090  0.023256  0.013378  0.008439  0.000000  0.842782  0.407254   \n",
              "4  0.074922  0.023256  0.013378  0.008439  0.000000  0.923773  0.148187   \n",
              "\n",
              "          v         n     nb        co         w        al     ti  \n",
              "0  0.002315  0.000000  0.004  0.746142  0.000000  0.078212  0.620  \n",
              "1  0.106481  0.266667  0.004  0.968143  0.255991  0.016760  0.000  \n",
              "2  0.002315  0.000000  0.004  0.691389  0.000000  0.212291  0.228  \n",
              "3  0.002315  0.000000  0.004  0.746142  0.000000  0.067039  0.588  \n",
              "4  0.002315  0.000000  0.004  0.741165  0.000000  0.067039  0.620  "
            ],
            "text/html": [
              "\n",
              "  <div id=\"df-b170ef85-8c27-4446-b44d-8459f1a2694b\">\n",
              "    <div class=\"colab-df-container\">\n",
              "      <div>\n",
              "<style scoped>\n",
              "    .dataframe tbody tr th:only-of-type {\n",
              "        vertical-align: middle;\n",
              "    }\n",
              "\n",
              "    .dataframe tbody tr th {\n",
              "        vertical-align: top;\n",
              "    }\n",
              "\n",
              "    .dataframe thead th {\n",
              "        text-align: right;\n",
              "    }\n",
              "</style>\n",
              "<table border=\"1\" class=\"dataframe\">\n",
              "  <thead>\n",
              "    <tr style=\"text-align: right;\">\n",
              "      <th></th>\n",
              "      <th>Fe</th>\n",
              "      <th>c</th>\n",
              "      <th>mn</th>\n",
              "      <th>si</th>\n",
              "      <th>cr</th>\n",
              "      <th>ni</th>\n",
              "      <th>mo</th>\n",
              "      <th>v</th>\n",
              "      <th>n</th>\n",
              "      <th>nb</th>\n",
              "      <th>co</th>\n",
              "      <th>w</th>\n",
              "      <th>al</th>\n",
              "      <th>ti</th>\n",
              "    </tr>\n",
              "  </thead>\n",
              "  <tbody>\n",
              "    <tr>\n",
              "      <th>0</th>\n",
              "      <td>0.000000</td>\n",
              "      <td>0.046512</td>\n",
              "      <td>0.013378</td>\n",
              "      <td>0.008439</td>\n",
              "      <td>0.000000</td>\n",
              "      <td>0.938066</td>\n",
              "      <td>0.303627</td>\n",
              "      <td>0.002315</td>\n",
              "      <td>0.000000</td>\n",
              "      <td>0.004</td>\n",
              "      <td>0.746142</td>\n",
              "      <td>0.000000</td>\n",
              "      <td>0.078212</td>\n",
              "      <td>0.620</td>\n",
              "    </tr>\n",
              "    <tr>\n",
              "      <th>1</th>\n",
              "      <td>0.018634</td>\n",
              "      <td>0.418605</td>\n",
              "      <td>0.000000</td>\n",
              "      <td>0.000000</td>\n",
              "      <td>0.767867</td>\n",
              "      <td>0.000000</td>\n",
              "      <td>0.309845</td>\n",
              "      <td>0.106481</td>\n",
              "      <td>0.266667</td>\n",
              "      <td>0.004</td>\n",
              "      <td>0.968143</td>\n",
              "      <td>0.255991</td>\n",
              "      <td>0.016760</td>\n",
              "      <td>0.000</td>\n",
              "    </tr>\n",
              "    <tr>\n",
              "      <th>2</th>\n",
              "      <td>0.064441</td>\n",
              "      <td>0.000000</td>\n",
              "      <td>0.000000</td>\n",
              "      <td>0.000000</td>\n",
              "      <td>0.495140</td>\n",
              "      <td>0.640305</td>\n",
              "      <td>0.082902</td>\n",
              "      <td>0.002315</td>\n",
              "      <td>0.000000</td>\n",
              "      <td>0.004</td>\n",
              "      <td>0.691389</td>\n",
              "      <td>0.000000</td>\n",
              "      <td>0.212291</td>\n",
              "      <td>0.228</td>\n",
              "    </tr>\n",
              "    <tr>\n",
              "      <th>3</th>\n",
              "      <td>0.043090</td>\n",
              "      <td>0.023256</td>\n",
              "      <td>0.013378</td>\n",
              "      <td>0.008439</td>\n",
              "      <td>0.000000</td>\n",
              "      <td>0.842782</td>\n",
              "      <td>0.407254</td>\n",
              "      <td>0.002315</td>\n",
              "      <td>0.000000</td>\n",
              "      <td>0.004</td>\n",
              "      <td>0.746142</td>\n",
              "      <td>0.000000</td>\n",
              "      <td>0.067039</td>\n",
              "      <td>0.588</td>\n",
              "    </tr>\n",
              "    <tr>\n",
              "      <th>4</th>\n",
              "      <td>0.074922</td>\n",
              "      <td>0.023256</td>\n",
              "      <td>0.013378</td>\n",
              "      <td>0.008439</td>\n",
              "      <td>0.000000</td>\n",
              "      <td>0.923773</td>\n",
              "      <td>0.148187</td>\n",
              "      <td>0.002315</td>\n",
              "      <td>0.000000</td>\n",
              "      <td>0.004</td>\n",
              "      <td>0.741165</td>\n",
              "      <td>0.000000</td>\n",
              "      <td>0.067039</td>\n",
              "      <td>0.620</td>\n",
              "    </tr>\n",
              "  </tbody>\n",
              "</table>\n",
              "</div>\n",
              "      <button class=\"colab-df-convert\" onclick=\"convertToInteractive('df-b170ef85-8c27-4446-b44d-8459f1a2694b')\"\n",
              "              title=\"Convert this dataframe to an interactive table.\"\n",
              "              style=\"display:none;\">\n",
              "        \n",
              "  <svg xmlns=\"http://www.w3.org/2000/svg\" height=\"24px\"viewBox=\"0 0 24 24\"\n",
              "       width=\"24px\">\n",
              "    <path d=\"M0 0h24v24H0V0z\" fill=\"none\"/>\n",
              "    <path d=\"M18.56 5.44l.94 2.06.94-2.06 2.06-.94-2.06-.94-.94-2.06-.94 2.06-2.06.94zm-11 1L8.5 8.5l.94-2.06 2.06-.94-2.06-.94L8.5 2.5l-.94 2.06-2.06.94zm10 10l.94 2.06.94-2.06 2.06-.94-2.06-.94-.94-2.06-.94 2.06-2.06.94z\"/><path d=\"M17.41 7.96l-1.37-1.37c-.4-.4-.92-.59-1.43-.59-.52 0-1.04.2-1.43.59L10.3 9.45l-7.72 7.72c-.78.78-.78 2.05 0 2.83L4 21.41c.39.39.9.59 1.41.59.51 0 1.02-.2 1.41-.59l7.78-7.78 2.81-2.81c.8-.78.8-2.07 0-2.86zM5.41 20L4 18.59l7.72-7.72 1.47 1.35L5.41 20z\"/>\n",
              "  </svg>\n",
              "      </button>\n",
              "      \n",
              "  <style>\n",
              "    .colab-df-container {\n",
              "      display:flex;\n",
              "      flex-wrap:wrap;\n",
              "      gap: 12px;\n",
              "    }\n",
              "\n",
              "    .colab-df-convert {\n",
              "      background-color: #E8F0FE;\n",
              "      border: none;\n",
              "      border-radius: 50%;\n",
              "      cursor: pointer;\n",
              "      display: none;\n",
              "      fill: #1967D2;\n",
              "      height: 32px;\n",
              "      padding: 0 0 0 0;\n",
              "      width: 32px;\n",
              "    }\n",
              "\n",
              "    .colab-df-convert:hover {\n",
              "      background-color: #E2EBFA;\n",
              "      box-shadow: 0px 1px 2px rgba(60, 64, 67, 0.3), 0px 1px 3px 1px rgba(60, 64, 67, 0.15);\n",
              "      fill: #174EA6;\n",
              "    }\n",
              "\n",
              "    [theme=dark] .colab-df-convert {\n",
              "      background-color: #3B4455;\n",
              "      fill: #D2E3FC;\n",
              "    }\n",
              "\n",
              "    [theme=dark] .colab-df-convert:hover {\n",
              "      background-color: #434B5C;\n",
              "      box-shadow: 0px 1px 3px 1px rgba(0, 0, 0, 0.15);\n",
              "      filter: drop-shadow(0px 1px 2px rgba(0, 0, 0, 0.3));\n",
              "      fill: #FFFFFF;\n",
              "    }\n",
              "  </style>\n",
              "\n",
              "      <script>\n",
              "        const buttonEl =\n",
              "          document.querySelector('#df-b170ef85-8c27-4446-b44d-8459f1a2694b button.colab-df-convert');\n",
              "        buttonEl.style.display =\n",
              "          google.colab.kernel.accessAllowed ? 'block' : 'none';\n",
              "\n",
              "        async function convertToInteractive(key) {\n",
              "          const element = document.querySelector('#df-b170ef85-8c27-4446-b44d-8459f1a2694b');\n",
              "          const dataTable =\n",
              "            await google.colab.kernel.invokeFunction('convertToInteractive',\n",
              "                                                     [key], {});\n",
              "          if (!dataTable) return;\n",
              "\n",
              "          const docLinkHtml = 'Like what you see? Visit the ' +\n",
              "            '<a target=\"_blank\" href=https://colab.research.google.com/notebooks/data_table.ipynb>data table notebook</a>'\n",
              "            + ' to learn more about interactive tables.';\n",
              "          element.innerHTML = '';\n",
              "          dataTable['output_type'] = 'display_data';\n",
              "          await google.colab.output.renderOutput(dataTable, element);\n",
              "          const docLink = document.createElement('div');\n",
              "          docLink.innerHTML = docLinkHtml;\n",
              "          element.appendChild(docLink);\n",
              "        }\n",
              "      </script>\n",
              "    </div>\n",
              "  </div>\n",
              "  "
            ]
          },
          "metadata": {},
          "execution_count": 20
        }
      ],
      "source": [
        "X_scaled.head()"
      ]
    },
    {
      "cell_type": "code",
      "execution_count": null,
      "metadata": {
        "colab": {
          "base_uri": "https://localhost:8080/",
          "height": 206
        },
        "id": "DanE6M3Yytmf",
        "outputId": "a1ce3e44-f46d-4bf1-97a9-1f95951cf124"
      },
      "outputs": [
        {
          "output_type": "execute_result",
          "data": {
            "text/plain": [
              "   yield strength  tensile strength  elongation\n",
              "0        0.934326          0.937782    0.151515\n",
              "1        0.077905          0.586847    0.181818\n",
              "2        0.485509          0.549839    0.363856\n",
              "3        0.984712          0.964475    0.212121\n",
              "4        0.826708          0.835590    0.196970"
            ],
            "text/html": [
              "\n",
              "  <div id=\"df-f2a737d0-d5bc-4cd6-811d-1a41c2f93016\">\n",
              "    <div class=\"colab-df-container\">\n",
              "      <div>\n",
              "<style scoped>\n",
              "    .dataframe tbody tr th:only-of-type {\n",
              "        vertical-align: middle;\n",
              "    }\n",
              "\n",
              "    .dataframe tbody tr th {\n",
              "        vertical-align: top;\n",
              "    }\n",
              "\n",
              "    .dataframe thead th {\n",
              "        text-align: right;\n",
              "    }\n",
              "</style>\n",
              "<table border=\"1\" class=\"dataframe\">\n",
              "  <thead>\n",
              "    <tr style=\"text-align: right;\">\n",
              "      <th></th>\n",
              "      <th>yield strength</th>\n",
              "      <th>tensile strength</th>\n",
              "      <th>elongation</th>\n",
              "    </tr>\n",
              "  </thead>\n",
              "  <tbody>\n",
              "    <tr>\n",
              "      <th>0</th>\n",
              "      <td>0.934326</td>\n",
              "      <td>0.937782</td>\n",
              "      <td>0.151515</td>\n",
              "    </tr>\n",
              "    <tr>\n",
              "      <th>1</th>\n",
              "      <td>0.077905</td>\n",
              "      <td>0.586847</td>\n",
              "      <td>0.181818</td>\n",
              "    </tr>\n",
              "    <tr>\n",
              "      <th>2</th>\n",
              "      <td>0.485509</td>\n",
              "      <td>0.549839</td>\n",
              "      <td>0.363856</td>\n",
              "    </tr>\n",
              "    <tr>\n",
              "      <th>3</th>\n",
              "      <td>0.984712</td>\n",
              "      <td>0.964475</td>\n",
              "      <td>0.212121</td>\n",
              "    </tr>\n",
              "    <tr>\n",
              "      <th>4</th>\n",
              "      <td>0.826708</td>\n",
              "      <td>0.835590</td>\n",
              "      <td>0.196970</td>\n",
              "    </tr>\n",
              "  </tbody>\n",
              "</table>\n",
              "</div>\n",
              "      <button class=\"colab-df-convert\" onclick=\"convertToInteractive('df-f2a737d0-d5bc-4cd6-811d-1a41c2f93016')\"\n",
              "              title=\"Convert this dataframe to an interactive table.\"\n",
              "              style=\"display:none;\">\n",
              "        \n",
              "  <svg xmlns=\"http://www.w3.org/2000/svg\" height=\"24px\"viewBox=\"0 0 24 24\"\n",
              "       width=\"24px\">\n",
              "    <path d=\"M0 0h24v24H0V0z\" fill=\"none\"/>\n",
              "    <path d=\"M18.56 5.44l.94 2.06.94-2.06 2.06-.94-2.06-.94-.94-2.06-.94 2.06-2.06.94zm-11 1L8.5 8.5l.94-2.06 2.06-.94-2.06-.94L8.5 2.5l-.94 2.06-2.06.94zm10 10l.94 2.06.94-2.06 2.06-.94-2.06-.94-.94-2.06-.94 2.06-2.06.94z\"/><path d=\"M17.41 7.96l-1.37-1.37c-.4-.4-.92-.59-1.43-.59-.52 0-1.04.2-1.43.59L10.3 9.45l-7.72 7.72c-.78.78-.78 2.05 0 2.83L4 21.41c.39.39.9.59 1.41.59.51 0 1.02-.2 1.41-.59l7.78-7.78 2.81-2.81c.8-.78.8-2.07 0-2.86zM5.41 20L4 18.59l7.72-7.72 1.47 1.35L5.41 20z\"/>\n",
              "  </svg>\n",
              "      </button>\n",
              "      \n",
              "  <style>\n",
              "    .colab-df-container {\n",
              "      display:flex;\n",
              "      flex-wrap:wrap;\n",
              "      gap: 12px;\n",
              "    }\n",
              "\n",
              "    .colab-df-convert {\n",
              "      background-color: #E8F0FE;\n",
              "      border: none;\n",
              "      border-radius: 50%;\n",
              "      cursor: pointer;\n",
              "      display: none;\n",
              "      fill: #1967D2;\n",
              "      height: 32px;\n",
              "      padding: 0 0 0 0;\n",
              "      width: 32px;\n",
              "    }\n",
              "\n",
              "    .colab-df-convert:hover {\n",
              "      background-color: #E2EBFA;\n",
              "      box-shadow: 0px 1px 2px rgba(60, 64, 67, 0.3), 0px 1px 3px 1px rgba(60, 64, 67, 0.15);\n",
              "      fill: #174EA6;\n",
              "    }\n",
              "\n",
              "    [theme=dark] .colab-df-convert {\n",
              "      background-color: #3B4455;\n",
              "      fill: #D2E3FC;\n",
              "    }\n",
              "\n",
              "    [theme=dark] .colab-df-convert:hover {\n",
              "      background-color: #434B5C;\n",
              "      box-shadow: 0px 1px 3px 1px rgba(0, 0, 0, 0.15);\n",
              "      filter: drop-shadow(0px 1px 2px rgba(0, 0, 0, 0.3));\n",
              "      fill: #FFFFFF;\n",
              "    }\n",
              "  </style>\n",
              "\n",
              "      <script>\n",
              "        const buttonEl =\n",
              "          document.querySelector('#df-f2a737d0-d5bc-4cd6-811d-1a41c2f93016 button.colab-df-convert');\n",
              "        buttonEl.style.display =\n",
              "          google.colab.kernel.accessAllowed ? 'block' : 'none';\n",
              "\n",
              "        async function convertToInteractive(key) {\n",
              "          const element = document.querySelector('#df-f2a737d0-d5bc-4cd6-811d-1a41c2f93016');\n",
              "          const dataTable =\n",
              "            await google.colab.kernel.invokeFunction('convertToInteractive',\n",
              "                                                     [key], {});\n",
              "          if (!dataTable) return;\n",
              "\n",
              "          const docLinkHtml = 'Like what you see? Visit the ' +\n",
              "            '<a target=\"_blank\" href=https://colab.research.google.com/notebooks/data_table.ipynb>data table notebook</a>'\n",
              "            + ' to learn more about interactive tables.';\n",
              "          element.innerHTML = '';\n",
              "          dataTable['output_type'] = 'display_data';\n",
              "          await google.colab.output.renderOutput(dataTable, element);\n",
              "          const docLink = document.createElement('div');\n",
              "          docLink.innerHTML = docLinkHtml;\n",
              "          element.appendChild(docLink);\n",
              "        }\n",
              "      </script>\n",
              "    </div>\n",
              "  </div>\n",
              "  "
            ]
          },
          "metadata": {},
          "execution_count": 21
        }
      ],
      "source": [
        "y_scaled.head()"
      ]
    },
    {
      "cell_type": "markdown",
      "metadata": {
        "id": "fsSCDrE3nVR9"
      },
      "source": [
        "Splitting of data"
      ]
    },
    {
      "cell_type": "markdown",
      "metadata": {
        "id": "VonwrCOghlcr"
      },
      "source": [
        "![image.png](data:image/png;base64,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)"
      ]
    },
    {
      "cell_type": "code",
      "execution_count": null,
      "metadata": {
        "colab": {
          "base_uri": "https://localhost:8080/"
        },
        "id": "3yVu2d8TZ0JM",
        "outputId": "79777d6d-2a1b-40d8-c348-a36d424f3cb1"
      },
      "outputs": [
        {
          "output_type": "execute_result",
          "data": {
            "text/plain": [
              "([(224, 14), (224, 3)], [(56, 14), (56, 3)], [(32, 14), (32, 3)])"
            ]
          },
          "metadata": {},
          "execution_count": 22
        }
      ],
      "source": [
        "from sklearn.model_selection import train_test_split\n",
        "X_new,X_test,y_new,y_test = train_test_split(X_scaled,y_scaled,test_size=0.1,random_state=1);\n",
        "X_train,X_valid,y_train,y_valid = train_test_split(X_new,y_new,test_size=0.2,random_state=1)\n",
        "\n",
        "[X_train.shape,y_train.shape],[X_valid.shape,y_valid.shape],[X_test.shape,y_test.shape]"
      ]
    },
    {
      "cell_type": "code",
      "execution_count": null,
      "metadata": {
        "colab": {
          "base_uri": "https://localhost:8080/"
        },
        "id": "KvVcQFuShy-b",
        "outputId": "ff4b6341-3d90-4659-91c3-42936b6a6ee1"
      },
      "outputs": [
        {
          "output_type": "stream",
          "name": "stdout",
          "text": [
            "Training set shape: (224, 14) (224, 3)\n",
            "Validation set shape: (56, 14) (56, 3)\n",
            "Test set shape: (32, 14) (32, 3)\n"
          ]
        }
      ],
      "source": [
        "print(\"Training set shape:\", X_train.shape, y_train.shape)\n",
        "print(\"Validation set shape:\", X_valid.shape, y_valid.shape)\n",
        "print(\"Test set shape:\", X_test.shape, y_test.shape)"
      ]
    },
    {
      "cell_type": "code",
      "execution_count": null,
      "metadata": {
        "id": "-CZvyf_8IXx9"
      },
      "outputs": [],
      "source": [
        "y_Test = sc.inverse_transform(y_test)\n",
        "actual_yield_strength = np.transpose(y_Test)[0]\n",
        "actual_tensile_strength = np.transpose(y_Test)[1]\n",
        "actual_pct_elongation = np.transpose(y_Test)[2]"
      ]
    },
    {
      "cell_type": "markdown",
      "metadata": {
        "id": "V6eRbrsGnbQz"
      },
      "source": [
        "#Modelling"
      ]
    },
    {
      "cell_type": "markdown",
      "metadata": {
        "id": "arLEE0parCJl"
      },
      "source": [
        "###Regression using Sklearn models"
      ]
    },
    {
      "cell_type": "markdown",
      "metadata": {
        "id": "jRR4aTIonl4n"
      },
      "source": [
        "In order to find out the baseline models for the data, a spot checking method is being used"
      ]
    },
    {
      "cell_type": "code",
      "execution_count": null,
      "metadata": {
        "id": "B5Yi99AfaCSn"
      },
      "outputs": [],
      "source": [
        "import xgboost as xgb\n",
        "\n",
        "def model_results(XTrain,XValid,yTrain,yValid):\n",
        "  models =[('Linear', LinearRegression()),\n",
        "           ('Random Forest',RandomForestRegressor()),\n",
        "           ('MLP',MLPRegressor(max_iter = 1000)),\n",
        "           ('RidgeCV',MultiOutputRegressor(RidgeCV())),\n",
        "           ('SGD',MultiOutputRegressor(SGDRegressor())),\n",
        "           ('KNN', KNeighborsRegressor(n_neighbors=10)),\n",
        "           ('Support Vector',MultiOutputRegressor(SVR())),\n",
        "           ('Decision Tree',MultiOutputRegressor(DecisionTreeRegressor())),\n",
        "           ('AdaBoost',MultiOutputRegressor(AdaBoostRegressor())),\n",
        "           ('X_gb',MultiOutputRegressor(xgb.XGBRegressor())),\n",
        "           ('GradientBoost',MultiOutputRegressor(GradientBoostingRegressor())),\n",
        "          ]\n",
        "  finalResults = []\n",
        "\n",
        "  for name,model in models:\n",
        "      model.fit(XTrain, yTrain)\n",
        "      model_results = model.predict(XValid)\n",
        "      r2score = r2_score(yValid, model_results)\n",
        "      RMSE = mean_squared_error(yValid, model_results,squared = False)\n",
        "      MAE = mean_absolute_error(yValid, model_results)\n",
        "      finalResults.append((name, r2score, RMSE, MAE))\n",
        "  finalResults.sort(key=lambda k:k[2])\n",
        "  return finalResults"
      ]
    },
    {
      "cell_type": "code",
      "execution_count": null,
      "metadata": {
        "colab": {
          "base_uri": "https://localhost:8080/",
          "height": 394
        },
        "id": "e5GQ01uuaZAs",
        "outputId": "95ad86b3-3b3f-466e-c76d-4885b6580266"
      },
      "outputs": [
        {
          "output_type": "execute_result",
          "data": {
            "text/plain": [
              "        Model Name  R2 Score      RMSE       MAE\n",
              "0    GradientBoost  0.818438  0.079679  0.052458\n",
              "1             X_gb  0.781206  0.084942  0.057386\n",
              "2    Random Forest  0.769904  0.087501  0.059861\n",
              "3   Support Vector  0.747576  0.091883  0.066530\n",
              "4         AdaBoost  0.703198  0.099494  0.074959\n",
              "5    Decision Tree  0.705568  0.105678  0.068488\n",
              "6              KNN  0.691688  0.106212  0.071565\n",
              "7           Linear  0.581041  0.122134  0.083332\n",
              "8              MLP  0.554804  0.126936  0.086568\n",
              "9          RidgeCV  0.539772  0.129265  0.087283\n",
              "10             SGD  0.168330  0.182246  0.129798"
            ],
            "text/html": [
              "\n",
              "  <div id=\"df-d559fbb7-4023-44cd-ace5-a9e46adf2aa9\">\n",
              "    <div class=\"colab-df-container\">\n",
              "      <div>\n",
              "<style scoped>\n",
              "    .dataframe tbody tr th:only-of-type {\n",
              "        vertical-align: middle;\n",
              "    }\n",
              "\n",
              "    .dataframe tbody tr th {\n",
              "        vertical-align: top;\n",
              "    }\n",
              "\n",
              "    .dataframe thead th {\n",
              "        text-align: right;\n",
              "    }\n",
              "</style>\n",
              "<table border=\"1\" class=\"dataframe\">\n",
              "  <thead>\n",
              "    <tr style=\"text-align: right;\">\n",
              "      <th></th>\n",
              "      <th>Model Name</th>\n",
              "      <th>R2 Score</th>\n",
              "      <th>RMSE</th>\n",
              "      <th>MAE</th>\n",
              "    </tr>\n",
              "  </thead>\n",
              "  <tbody>\n",
              "    <tr>\n",
              "      <th>0</th>\n",
              "      <td>GradientBoost</td>\n",
              "      <td>0.818438</td>\n",
              "      <td>0.079679</td>\n",
              "      <td>0.052458</td>\n",
              "    </tr>\n",
              "    <tr>\n",
              "      <th>1</th>\n",
              "      <td>X_gb</td>\n",
              "      <td>0.781206</td>\n",
              "      <td>0.084942</td>\n",
              "      <td>0.057386</td>\n",
              "    </tr>\n",
              "    <tr>\n",
              "      <th>2</th>\n",
              "      <td>Random Forest</td>\n",
              "      <td>0.769904</td>\n",
              "      <td>0.087501</td>\n",
              "      <td>0.059861</td>\n",
              "    </tr>\n",
              "    <tr>\n",
              "      <th>3</th>\n",
              "      <td>Support Vector</td>\n",
              "      <td>0.747576</td>\n",
              "      <td>0.091883</td>\n",
              "      <td>0.066530</td>\n",
              "    </tr>\n",
              "    <tr>\n",
              "      <th>4</th>\n",
              "      <td>AdaBoost</td>\n",
              "      <td>0.703198</td>\n",
              "      <td>0.099494</td>\n",
              "      <td>0.074959</td>\n",
              "    </tr>\n",
              "    <tr>\n",
              "      <th>5</th>\n",
              "      <td>Decision Tree</td>\n",
              "      <td>0.705568</td>\n",
              "      <td>0.105678</td>\n",
              "      <td>0.068488</td>\n",
              "    </tr>\n",
              "    <tr>\n",
              "      <th>6</th>\n",
              "      <td>KNN</td>\n",
              "      <td>0.691688</td>\n",
              "      <td>0.106212</td>\n",
              "      <td>0.071565</td>\n",
              "    </tr>\n",
              "    <tr>\n",
              "      <th>7</th>\n",
              "      <td>Linear</td>\n",
              "      <td>0.581041</td>\n",
              "      <td>0.122134</td>\n",
              "      <td>0.083332</td>\n",
              "    </tr>\n",
              "    <tr>\n",
              "      <th>8</th>\n",
              "      <td>MLP</td>\n",
              "      <td>0.554804</td>\n",
              "      <td>0.126936</td>\n",
              "      <td>0.086568</td>\n",
              "    </tr>\n",
              "    <tr>\n",
              "      <th>9</th>\n",
              "      <td>RidgeCV</td>\n",
              "      <td>0.539772</td>\n",
              "      <td>0.129265</td>\n",
              "      <td>0.087283</td>\n",
              "    </tr>\n",
              "    <tr>\n",
              "      <th>10</th>\n",
              "      <td>SGD</td>\n",
              "      <td>0.168330</td>\n",
              "      <td>0.182246</td>\n",
              "      <td>0.129798</td>\n",
              "    </tr>\n",
              "  </tbody>\n",
              "</table>\n",
              "</div>\n",
              "      <button class=\"colab-df-convert\" onclick=\"convertToInteractive('df-d559fbb7-4023-44cd-ace5-a9e46adf2aa9')\"\n",
              "              title=\"Convert this dataframe to an interactive table.\"\n",
              "              style=\"display:none;\">\n",
              "        \n",
              "  <svg xmlns=\"http://www.w3.org/2000/svg\" height=\"24px\"viewBox=\"0 0 24 24\"\n",
              "       width=\"24px\">\n",
              "    <path d=\"M0 0h24v24H0V0z\" fill=\"none\"/>\n",
              "    <path d=\"M18.56 5.44l.94 2.06.94-2.06 2.06-.94-2.06-.94-.94-2.06-.94 2.06-2.06.94zm-11 1L8.5 8.5l.94-2.06 2.06-.94-2.06-.94L8.5 2.5l-.94 2.06-2.06.94zm10 10l.94 2.06.94-2.06 2.06-.94-2.06-.94-.94-2.06-.94 2.06-2.06.94z\"/><path d=\"M17.41 7.96l-1.37-1.37c-.4-.4-.92-.59-1.43-.59-.52 0-1.04.2-1.43.59L10.3 9.45l-7.72 7.72c-.78.78-.78 2.05 0 2.83L4 21.41c.39.39.9.59 1.41.59.51 0 1.02-.2 1.41-.59l7.78-7.78 2.81-2.81c.8-.78.8-2.07 0-2.86zM5.41 20L4 18.59l7.72-7.72 1.47 1.35L5.41 20z\"/>\n",
              "  </svg>\n",
              "      </button>\n",
              "      \n",
              "  <style>\n",
              "    .colab-df-container {\n",
              "      display:flex;\n",
              "      flex-wrap:wrap;\n",
              "      gap: 12px;\n",
              "    }\n",
              "\n",
              "    .colab-df-convert {\n",
              "      background-color: #E8F0FE;\n",
              "      border: none;\n",
              "      border-radius: 50%;\n",
              "      cursor: pointer;\n",
              "      display: none;\n",
              "      fill: #1967D2;\n",
              "      height: 32px;\n",
              "      padding: 0 0 0 0;\n",
              "      width: 32px;\n",
              "    }\n",
              "\n",
              "    .colab-df-convert:hover {\n",
              "      background-color: #E2EBFA;\n",
              "      box-shadow: 0px 1px 2px rgba(60, 64, 67, 0.3), 0px 1px 3px 1px rgba(60, 64, 67, 0.15);\n",
              "      fill: #174EA6;\n",
              "    }\n",
              "\n",
              "    [theme=dark] .colab-df-convert {\n",
              "      background-color: #3B4455;\n",
              "      fill: #D2E3FC;\n",
              "    }\n",
              "\n",
              "    [theme=dark] .colab-df-convert:hover {\n",
              "      background-color: #434B5C;\n",
              "      box-shadow: 0px 1px 3px 1px rgba(0, 0, 0, 0.15);\n",
              "      filter: drop-shadow(0px 1px 2px rgba(0, 0, 0, 0.3));\n",
              "      fill: #FFFFFF;\n",
              "    }\n",
              "  </style>\n",
              "\n",
              "      <script>\n",
              "        const buttonEl =\n",
              "          document.querySelector('#df-d559fbb7-4023-44cd-ace5-a9e46adf2aa9 button.colab-df-convert');\n",
              "        buttonEl.style.display =\n",
              "          google.colab.kernel.accessAllowed ? 'block' : 'none';\n",
              "\n",
              "        async function convertToInteractive(key) {\n",
              "          const element = document.querySelector('#df-d559fbb7-4023-44cd-ace5-a9e46adf2aa9');\n",
              "          const dataTable =\n",
              "            await google.colab.kernel.invokeFunction('convertToInteractive',\n",
              "                                                     [key], {});\n",
              "          if (!dataTable) return;\n",
              "\n",
              "          const docLinkHtml = 'Like what you see? Visit the ' +\n",
              "            '<a target=\"_blank\" href=https://colab.research.google.com/notebooks/data_table.ipynb>data table notebook</a>'\n",
              "            + ' to learn more about interactive tables.';\n",
              "          element.innerHTML = '';\n",
              "          dataTable['output_type'] = 'display_data';\n",
              "          await google.colab.output.renderOutput(dataTable, element);\n",
              "          const docLink = document.createElement('div');\n",
              "          docLink.innerHTML = docLinkHtml;\n",
              "          element.appendChild(docLink);\n",
              "        }\n",
              "      </script>\n",
              "    </div>\n",
              "  </div>\n",
              "  "
            ]
          },
          "metadata": {},
          "execution_count": 26
        }
      ],
      "source": [
        "np.random.seed(42)\n",
        "np_results = model_results(X_train,X_valid,y_train,y_valid)\n",
        "results = pd.DataFrame(np_results,columns=['Model Name', 'R2 Score', 'RMSE', 'MAE'])\n",
        "results"
      ]
    },
    {
      "cell_type": "code",
      "execution_count": null,
      "metadata": {
        "id": "8lxgQXAAY_7F"
      },
      "outputs": [],
      "source": [
        "import xgboost as xgb\n",
        "\n",
        "def model_test_results(XTrain,XTest,yTrain,yTest):\n",
        "  test_models =[('Linear', LinearRegression()),\n",
        "           ('Random Forest',RandomForestRegressor()),\n",
        "           ('MLP',MLPRegressor(max_iter = 1000)),\n",
        "           ('RidgeCV',MultiOutputRegressor(RidgeCV())),\n",
        "           ('SGD',MultiOutputRegressor(SGDRegressor())),\n",
        "           ('KNN', KNeighborsRegressor(n_neighbors=10)),\n",
        "           ('Support Vector',MultiOutputRegressor(SVR())),\n",
        "           ('Decision Tree',MultiOutputRegressor(DecisionTreeRegressor())),\n",
        "           ('AdaBoost',MultiOutputRegressor(AdaBoostRegressor())),\n",
        "           ('X_gb',MultiOutputRegressor(xgb.XGBRegressor())),\n",
        "           ('GradientBoost',MultiOutputRegressor(GradientBoostingRegressor())),\n",
        "          ]\n",
        "  finalResults = []\n",
        "\n",
        "  for name,model in test_models:\n",
        "      model.fit(XTrain, yTrain)\n",
        "      model_results = model.predict(XTest)\n",
        "      r2score = r2_score(yTest, model_results)\n",
        "      RMSE = mean_squared_error(yTest, model_results,squared = False)\n",
        "      MAE = mean_absolute_error(yTest, model_results)\n",
        "      finalResults.append((name, r2score, RMSE, MAE))\n",
        "  finalResults.sort(key=lambda k:k[2])\n",
        "  return finalResults"
      ]
    },
    {
      "cell_type": "code",
      "execution_count": null,
      "metadata": {
        "colab": {
          "base_uri": "https://localhost:8080/",
          "height": 394
        },
        "id": "wtAZwn3IZYvH",
        "outputId": "b0ada889-7c76-42da-ceb9-452fc21e69ce"
      },
      "outputs": [
        {
          "output_type": "execute_result",
          "data": {
            "text/plain": [
              "        Model Name  R2 Score      RMSE       MAE\n",
              "0    GradientBoost  0.676962  0.112549  0.079148\n",
              "1         AdaBoost  0.648129  0.117772  0.084849\n",
              "2             X_gb  0.616908  0.121754  0.081804\n",
              "3              KNN  0.620112  0.123067  0.088074\n",
              "4    Random Forest  0.603458  0.123595  0.084284\n",
              "5   Support Vector  0.606301  0.124001  0.087908\n",
              "6    Decision Tree  0.535894  0.134413  0.090048\n",
              "7              MLP  0.439534  0.149486  0.108272\n",
              "8           Linear  0.379561  0.158148  0.112923\n",
              "9          RidgeCV  0.368985  0.159476  0.115806\n",
              "10             SGD  0.125373  0.189877  0.146966"
            ],
            "text/html": [
              "\n",
              "  <div id=\"df-636a1a62-9c03-488f-8b06-f6b503e43ac2\">\n",
              "    <div class=\"colab-df-container\">\n",
              "      <div>\n",
              "<style scoped>\n",
              "    .dataframe tbody tr th:only-of-type {\n",
              "        vertical-align: middle;\n",
              "    }\n",
              "\n",
              "    .dataframe tbody tr th {\n",
              "        vertical-align: top;\n",
              "    }\n",
              "\n",
              "    .dataframe thead th {\n",
              "        text-align: right;\n",
              "    }\n",
              "</style>\n",
              "<table border=\"1\" class=\"dataframe\">\n",
              "  <thead>\n",
              "    <tr style=\"text-align: right;\">\n",
              "      <th></th>\n",
              "      <th>Model Name</th>\n",
              "      <th>R2 Score</th>\n",
              "      <th>RMSE</th>\n",
              "      <th>MAE</th>\n",
              "    </tr>\n",
              "  </thead>\n",
              "  <tbody>\n",
              "    <tr>\n",
              "      <th>0</th>\n",
              "      <td>GradientBoost</td>\n",
              "      <td>0.676962</td>\n",
              "      <td>0.112549</td>\n",
              "      <td>0.079148</td>\n",
              "    </tr>\n",
              "    <tr>\n",
              "      <th>1</th>\n",
              "      <td>AdaBoost</td>\n",
              "      <td>0.648129</td>\n",
              "      <td>0.117772</td>\n",
              "      <td>0.084849</td>\n",
              "    </tr>\n",
              "    <tr>\n",
              "      <th>2</th>\n",
              "      <td>X_gb</td>\n",
              "      <td>0.616908</td>\n",
              "      <td>0.121754</td>\n",
              "      <td>0.081804</td>\n",
              "    </tr>\n",
              "    <tr>\n",
              "      <th>3</th>\n",
              "      <td>KNN</td>\n",
              "      <td>0.620112</td>\n",
              "      <td>0.123067</td>\n",
              "      <td>0.088074</td>\n",
              "    </tr>\n",
              "    <tr>\n",
              "      <th>4</th>\n",
              "      <td>Random Forest</td>\n",
              "      <td>0.603458</td>\n",
              "      <td>0.123595</td>\n",
              "      <td>0.084284</td>\n",
              "    </tr>\n",
              "    <tr>\n",
              "      <th>5</th>\n",
              "      <td>Support Vector</td>\n",
              "      <td>0.606301</td>\n",
              "      <td>0.124001</td>\n",
              "      <td>0.087908</td>\n",
              "    </tr>\n",
              "    <tr>\n",
              "      <th>6</th>\n",
              "      <td>Decision Tree</td>\n",
              "      <td>0.535894</td>\n",
              "      <td>0.134413</td>\n",
              "      <td>0.090048</td>\n",
              "    </tr>\n",
              "    <tr>\n",
              "      <th>7</th>\n",
              "      <td>MLP</td>\n",
              "      <td>0.439534</td>\n",
              "      <td>0.149486</td>\n",
              "      <td>0.108272</td>\n",
              "    </tr>\n",
              "    <tr>\n",
              "      <th>8</th>\n",
              "      <td>Linear</td>\n",
              "      <td>0.379561</td>\n",
              "      <td>0.158148</td>\n",
              "      <td>0.112923</td>\n",
              "    </tr>\n",
              "    <tr>\n",
              "      <th>9</th>\n",
              "      <td>RidgeCV</td>\n",
              "      <td>0.368985</td>\n",
              "      <td>0.159476</td>\n",
              "      <td>0.115806</td>\n",
              "    </tr>\n",
              "    <tr>\n",
              "      <th>10</th>\n",
              "      <td>SGD</td>\n",
              "      <td>0.125373</td>\n",
              "      <td>0.189877</td>\n",
              "      <td>0.146966</td>\n",
              "    </tr>\n",
              "  </tbody>\n",
              "</table>\n",
              "</div>\n",
              "      <button class=\"colab-df-convert\" onclick=\"convertToInteractive('df-636a1a62-9c03-488f-8b06-f6b503e43ac2')\"\n",
              "              title=\"Convert this dataframe to an interactive table.\"\n",
              "              style=\"display:none;\">\n",
              "        \n",
              "  <svg xmlns=\"http://www.w3.org/2000/svg\" height=\"24px\"viewBox=\"0 0 24 24\"\n",
              "       width=\"24px\">\n",
              "    <path d=\"M0 0h24v24H0V0z\" fill=\"none\"/>\n",
              "    <path d=\"M18.56 5.44l.94 2.06.94-2.06 2.06-.94-2.06-.94-.94-2.06-.94 2.06-2.06.94zm-11 1L8.5 8.5l.94-2.06 2.06-.94-2.06-.94L8.5 2.5l-.94 2.06-2.06.94zm10 10l.94 2.06.94-2.06 2.06-.94-2.06-.94-.94-2.06-.94 2.06-2.06.94z\"/><path d=\"M17.41 7.96l-1.37-1.37c-.4-.4-.92-.59-1.43-.59-.52 0-1.04.2-1.43.59L10.3 9.45l-7.72 7.72c-.78.78-.78 2.05 0 2.83L4 21.41c.39.39.9.59 1.41.59.51 0 1.02-.2 1.41-.59l7.78-7.78 2.81-2.81c.8-.78.8-2.07 0-2.86zM5.41 20L4 18.59l7.72-7.72 1.47 1.35L5.41 20z\"/>\n",
              "  </svg>\n",
              "      </button>\n",
              "      \n",
              "  <style>\n",
              "    .colab-df-container {\n",
              "      display:flex;\n",
              "      flex-wrap:wrap;\n",
              "      gap: 12px;\n",
              "    }\n",
              "\n",
              "    .colab-df-convert {\n",
              "      background-color: #E8F0FE;\n",
              "      border: none;\n",
              "      border-radius: 50%;\n",
              "      cursor: pointer;\n",
              "      display: none;\n",
              "      fill: #1967D2;\n",
              "      height: 32px;\n",
              "      padding: 0 0 0 0;\n",
              "      width: 32px;\n",
              "    }\n",
              "\n",
              "    .colab-df-convert:hover {\n",
              "      background-color: #E2EBFA;\n",
              "      box-shadow: 0px 1px 2px rgba(60, 64, 67, 0.3), 0px 1px 3px 1px rgba(60, 64, 67, 0.15);\n",
              "      fill: #174EA6;\n",
              "    }\n",
              "\n",
              "    [theme=dark] .colab-df-convert {\n",
              "      background-color: #3B4455;\n",
              "      fill: #D2E3FC;\n",
              "    }\n",
              "\n",
              "    [theme=dark] .colab-df-convert:hover {\n",
              "      background-color: #434B5C;\n",
              "      box-shadow: 0px 1px 3px 1px rgba(0, 0, 0, 0.15);\n",
              "      filter: drop-shadow(0px 1px 2px rgba(0, 0, 0, 0.3));\n",
              "      fill: #FFFFFF;\n",
              "    }\n",
              "  </style>\n",
              "\n",
              "      <script>\n",
              "        const buttonEl =\n",
              "          document.querySelector('#df-636a1a62-9c03-488f-8b06-f6b503e43ac2 button.colab-df-convert');\n",
              "        buttonEl.style.display =\n",
              "          google.colab.kernel.accessAllowed ? 'block' : 'none';\n",
              "\n",
              "        async function convertToInteractive(key) {\n",
              "          const element = document.querySelector('#df-636a1a62-9c03-488f-8b06-f6b503e43ac2');\n",
              "          const dataTable =\n",
              "            await google.colab.kernel.invokeFunction('convertToInteractive',\n",
              "                                                     [key], {});\n",
              "          if (!dataTable) return;\n",
              "\n",
              "          const docLinkHtml = 'Like what you see? Visit the ' +\n",
              "            '<a target=\"_blank\" href=https://colab.research.google.com/notebooks/data_table.ipynb>data table notebook</a>'\n",
              "            + ' to learn more about interactive tables.';\n",
              "          element.innerHTML = '';\n",
              "          dataTable['output_type'] = 'display_data';\n",
              "          await google.colab.output.renderOutput(dataTable, element);\n",
              "          const docLink = document.createElement('div');\n",
              "          docLink.innerHTML = docLinkHtml;\n",
              "          element.appendChild(docLink);\n",
              "        }\n",
              "      </script>\n",
              "    </div>\n",
              "  </div>\n",
              "  "
            ]
          },
          "metadata": {},
          "execution_count": 28
        }
      ],
      "source": [
        "np.random.seed(42)\n",
        "np__test_results = model_test_results(X_train,X_test,y_train,y_test)\n",
        "test_results = pd.DataFrame(np__test_results,columns=['Model Name', 'R2 Score', 'RMSE', 'MAE'])\n",
        "test_results"
      ]
    },
    {
      "cell_type": "code",
      "execution_count": null,
      "metadata": {
        "id": "iY9_sMjGfzMn"
      },
      "outputs": [],
      "source": [
        "names = []\n",
        "r2score = []\n",
        "rmse = []\n",
        "mae = []\n",
        "for model in np_results:\n",
        "  names.append(model[0])\n",
        "  r2score.append(model[1])\n",
        "  rmse.append(model[2])\n",
        "  mae.append(model[3])"
      ]
    },
    {
      "cell_type": "code",
      "execution_count": null,
      "metadata": {
        "colab": {
          "base_uri": "https://localhost:8080/",
          "height": 716
        },
        "id": "p2DkGmSfiXH3",
        "outputId": "c5d13489-e202-43f7-b97a-49cec50a4d78"
      },
      "outputs": [
        {
          "output_type": "execute_result",
          "data": {
            "text/plain": [
              "Text(0.5, 1.0, 'r2score comparison')"
            ]
          },
          "metadata": {},
          "execution_count": 30
        },
        {
          "output_type": "display_data",
          "data": {
            "text/plain": [
              "<Figure size 1600x800 with 1 Axes>"
            ],
            "image/png": "[encoded data removed]"
          },
          "metadata": {}
        }
      ],
      "source": [
        "fig = plt.figure(figsize = (16, 8))\n",
        "plt.bar(names,r2score,width=0.8,color='#6DA9E4')\n",
        "plt.title('r2score comparison')"
      ]
    },
    {
      "cell_type": "code",
      "execution_count": null,
      "metadata": {
        "colab": {
          "base_uri": "https://localhost:8080/",
          "height": 716
        },
        "id": "wQAM2f_nkizg",
        "outputId": "7e56b358-1275-49db-ecb1-96d7c72f77f7"
      },
      "outputs": [
        {
          "output_type": "execute_result",
          "data": {
            "text/plain": [
              "Text(0.5, 1.0, 'rmse comparison')"
            ]
          },
          "metadata": {},
          "execution_count": 31
        },
        {
          "output_type": "display_data",
          "data": {
            "text/plain": [
              "<Figure size 1600x800 with 1 Axes>"
            ],
            "image/png": "[encoded data removed]"
          },
          "metadata": {}
        }
      ],
      "source": [
        "fig = plt.figure(figsize = (16, 8))\n",
        "plt.bar(names,rmse,width=0.8,color='#6DA9E4')\n",
        "plt.title('rmse comparison')"
      ]
    },
    {
      "cell_type": "code",
      "execution_count": null,
      "metadata": {
        "colab": {
          "base_uri": "https://localhost:8080/",
          "height": 716
        },
        "id": "gIq_kB-DkjRG",
        "outputId": "f3927c3b-1349-43f3-ef7a-7c43ed4d5e9f"
      },
      "outputs": [
        {
          "output_type": "execute_result",
          "data": {
            "text/plain": [
              "Text(0.5, 1.0, 'mae comparison')"
            ]
          },
          "metadata": {},
          "execution_count": 32
        },
        {
          "output_type": "display_data",
          "data": {
            "text/plain": [
              "<Figure size 1600x800 with 1 Axes>"
            ],
            "image/png": "[encoded data removed]"
          },
          "metadata": {}
        }
      ],
      "source": [
        "fig = plt.figure(figsize = (16, 8))\n",
        "plt.bar(names,mae,width=0.8,color='#6DA9E4')\n",
        "plt.title('mae comparison')"
      ]
    },
    {
      "cell_type": "code",
      "execution_count": null,
      "metadata": {
        "id": "N60iTewQUCYt"
      },
      "outputs": [],
      "source": [
        "Final_models = results.iloc[:1,:]"
      ]
    },
    {
      "cell_type": "code",
      "execution_count": null,
      "metadata": {
        "colab": {
          "base_uri": "https://localhost:8080/",
          "height": 81
        },
        "id": "wapRHvP1UIcf",
        "outputId": "fb8d85fa-3acf-4f3d-f2e2-708ee64c0538"
      },
      "outputs": [
        {
          "output_type": "execute_result",
          "data": {
            "text/plain": [
              "      Model Name  R2 Score      RMSE       MAE\n",
              "0  GradientBoost  0.818438  0.079679  0.052458"
            ],
            "text/html": [
              "\n",
              "  <div id=\"df-6d7282a4-3c13-4143-a217-08e6fc0008c6\">\n",
              "    <div class=\"colab-df-container\">\n",
              "      <div>\n",
              "<style scoped>\n",
              "    .dataframe tbody tr th:only-of-type {\n",
              "        vertical-align: middle;\n",
              "    }\n",
              "\n",
              "    .dataframe tbody tr th {\n",
              "        vertical-align: top;\n",
              "    }\n",
              "\n",
              "    .dataframe thead th {\n",
              "        text-align: right;\n",
              "    }\n",
              "</style>\n",
              "<table border=\"1\" class=\"dataframe\">\n",
              "  <thead>\n",
              "    <tr style=\"text-align: right;\">\n",
              "      <th></th>\n",
              "      <th>Model Name</th>\n",
              "      <th>R2 Score</th>\n",
              "      <th>RMSE</th>\n",
              "      <th>MAE</th>\n",
              "    </tr>\n",
              "  </thead>\n",
              "  <tbody>\n",
              "    <tr>\n",
              "      <th>0</th>\n",
              "      <td>GradientBoost</td>\n",
              "      <td>0.818438</td>\n",
              "      <td>0.079679</td>\n",
              "      <td>0.052458</td>\n",
              "    </tr>\n",
              "  </tbody>\n",
              "</table>\n",
              "</div>\n",
              "      <button class=\"colab-df-convert\" onclick=\"convertToInteractive('df-6d7282a4-3c13-4143-a217-08e6fc0008c6')\"\n",
              "              title=\"Convert this dataframe to an interactive table.\"\n",
              "              style=\"display:none;\">\n",
              "        \n",
              "  <svg xmlns=\"http://www.w3.org/2000/svg\" height=\"24px\"viewBox=\"0 0 24 24\"\n",
              "       width=\"24px\">\n",
              "    <path d=\"M0 0h24v24H0V0z\" fill=\"none\"/>\n",
              "    <path d=\"M18.56 5.44l.94 2.06.94-2.06 2.06-.94-2.06-.94-.94-2.06-.94 2.06-2.06.94zm-11 1L8.5 8.5l.94-2.06 2.06-.94-2.06-.94L8.5 2.5l-.94 2.06-2.06.94zm10 10l.94 2.06.94-2.06 2.06-.94-2.06-.94-.94-2.06-.94 2.06-2.06.94z\"/><path d=\"M17.41 7.96l-1.37-1.37c-.4-.4-.92-.59-1.43-.59-.52 0-1.04.2-1.43.59L10.3 9.45l-7.72 7.72c-.78.78-.78 2.05 0 2.83L4 21.41c.39.39.9.59 1.41.59.51 0 1.02-.2 1.41-.59l7.78-7.78 2.81-2.81c.8-.78.8-2.07 0-2.86zM5.41 20L4 18.59l7.72-7.72 1.47 1.35L5.41 20z\"/>\n",
              "  </svg>\n",
              "      </button>\n",
              "      \n",
              "  <style>\n",
              "    .colab-df-container {\n",
              "      display:flex;\n",
              "      flex-wrap:wrap;\n",
              "      gap: 12px;\n",
              "    }\n",
              "\n",
              "    .colab-df-convert {\n",
              "      background-color: #E8F0FE;\n",
              "      border: none;\n",
              "      border-radius: 50%;\n",
              "      cursor: pointer;\n",
              "      display: none;\n",
              "      fill: #1967D2;\n",
              "      height: 32px;\n",
              "      padding: 0 0 0 0;\n",
              "      width: 32px;\n",
              "    }\n",
              "\n",
              "    .colab-df-convert:hover {\n",
              "      background-color: #E2EBFA;\n",
              "      box-shadow: 0px 1px 2px rgba(60, 64, 67, 0.3), 0px 1px 3px 1px rgba(60, 64, 67, 0.15);\n",
              "      fill: #174EA6;\n",
              "    }\n",
              "\n",
              "    [theme=dark] .colab-df-convert {\n",
              "      background-color: #3B4455;\n",
              "      fill: #D2E3FC;\n",
              "    }\n",
              "\n",
              "    [theme=dark] .colab-df-convert:hover {\n",
              "      background-color: #434B5C;\n",
              "      box-shadow: 0px 1px 3px 1px rgba(0, 0, 0, 0.15);\n",
              "      filter: drop-shadow(0px 1px 2px rgba(0, 0, 0, 0.3));\n",
              "      fill: #FFFFFF;\n",
              "    }\n",
              "  </style>\n",
              "\n",
              "      <script>\n",
              "        const buttonEl =\n",
              "          document.querySelector('#df-6d7282a4-3c13-4143-a217-08e6fc0008c6 button.colab-df-convert');\n",
              "        buttonEl.style.display =\n",
              "          google.colab.kernel.accessAllowed ? 'block' : 'none';\n",
              "\n",
              "        async function convertToInteractive(key) {\n",
              "          const element = document.querySelector('#df-6d7282a4-3c13-4143-a217-08e6fc0008c6');\n",
              "          const dataTable =\n",
              "            await google.colab.kernel.invokeFunction('convertToInteractive',\n",
              "                                                     [key], {});\n",
              "          if (!dataTable) return;\n",
              "\n",
              "          const docLinkHtml = 'Like what you see? Visit the ' +\n",
              "            '<a target=\"_blank\" href=https://colab.research.google.com/notebooks/data_table.ipynb>data table notebook</a>'\n",
              "            + ' to learn more about interactive tables.';\n",
              "          element.innerHTML = '';\n",
              "          dataTable['output_type'] = 'display_data';\n",
              "          await google.colab.output.renderOutput(dataTable, element);\n",
              "          const docLink = document.createElement('div');\n",
              "          docLink.innerHTML = docLinkHtml;\n",
              "          element.appendChild(docLink);\n",
              "        }\n",
              "      </script>\n",
              "    </div>\n",
              "  </div>\n",
              "  "
            ]
          },
          "metadata": {},
          "execution_count": 34
        }
      ],
      "source": [
        "Final_models"
      ]
    },
    {
      "cell_type": "markdown",
      "metadata": {
        "id": "TfPaAmNRkd7P"
      },
      "source": [
        "\n",
        "\n",
        "---\n",
        "\n",
        "\n",
        "\n",
        "---\n",
        "\n"
      ]
    },
    {
      "cell_type": "markdown",
      "metadata": {
        "id": "BH3kvzfMnrQr"
      },
      "source": [
        "###Regression using Neural Network"
      ]
    },
    {
      "cell_type": "code",
      "execution_count": null,
      "metadata": {
        "colab": {
          "background_save": true
        },
        "id": "FnPqyW4zX1mo"
      },
      "outputs": [],
      "source": [
        "from tensorflow import keras\n",
        "from keras.models import Sequential\n",
        "from keras.layers import Dense"
      ]
    },
    {
      "cell_type": "code",
      "execution_count": null,
      "metadata": {
        "colab": {
          "background_save": true
        },
        "id": "9CilkbbgQNXY"
      },
      "outputs": [],
      "source": [
        "model = Sequential()\n",
        "model.add(Dense(128, input_dim=14, activation='tanh'))\n",
        "model.add(Dense(64, activation='tanh'))\n",
        "model.add(Dense(32, activation='tanh'))\n",
        "model.add(Dense(3, activation='linear'))\n",
        "\n",
        "model.compile(loss=keras.losses.mse,\n",
        "                 optimizer=keras.optimizers.Adam(),\n",
        "                 metrics=[\"mse\"])"
      ]
    },
    {
      "cell_type": "code",
      "execution_count": null,
      "metadata": {
        "colab": {
          "background_save": true
        },
        "id": "2i9cTcg6YsBf"
      },
      "outputs": [],
      "source": [
        "history = model.fit(X_train, y_train, batch_size = 128, shuffle=True, epochs=500)"
      ]
    },
    {
      "cell_type": "code",
      "execution_count": null,
      "metadata": {
        "colab": {
          "background_save": true
        },
        "id": "7YlS6K_9ZHt_"
      },
      "outputs": [],
      "source": [
        "y_pred = model.predict(X_valid)"
      ]
    },
    {
      "cell_type": "code",
      "execution_count": null,
      "metadata": {
        "colab": {
          "background_save": true
        },
        "id": "hIt9jjsCU5tR"
      },
      "outputs": [],
      "source": [
        "NN_res = {'Model Name':'Neural Network',\t'R2 Score':\tr2_score(y_valid, y_pred),'RMSE':mean_squared_error(y_valid, y_pred,squared = False), 'MAE':mean_absolute_error(y_valid, y_pred)}"
      ]
    },
    {
      "cell_type": "code",
      "execution_count": null,
      "metadata": {
        "colab": {
          "background_save": true
        },
        "id": "f69OQEkgUd8r"
      },
      "outputs": [],
      "source": [
        "Final_models = Final_models.append(NN_res,ignore_index=True);"
      ]
    },
    {
      "cell_type": "code",
      "execution_count": null,
      "metadata": {
        "colab": {
          "background_save": true
        },
        "id": "QYSHaXBvV5WT"
      },
      "outputs": [],
      "source": [
        "Final_models"
      ]
    },
    {
      "cell_type": "markdown",
      "metadata": {
        "id": "aF26JD1ITDMU"
      },
      "source": [
        "\n",
        "\n",
        "---\n",
        "\n",
        "\n",
        "\n",
        "---\n",
        "\n"
      ]
    },
    {
      "cell_type": "code",
      "execution_count": null,
      "metadata": {
        "colab": {
          "background_save": true
        },
        "id": "yWzaPj59SMeT"
      },
      "outputs": [],
      "source": [
        "NN_test_y_pred = model.predict(X_test)"
      ]
    },
    {
      "cell_type": "code",
      "execution_count": null,
      "metadata": {
        "colab": {
          "background_save": true
        },
        "id": "UCkCFQEvSxHP"
      },
      "outputs": [],
      "source": [
        "NN_Final_results = {'r2score':r2_score(y_test,NN_test_y_pred),'rmse':mean_squared_error(y_test,NN_test_y_pred,squared=False),'mae':mean_absolute_error(y_test,NN_test_y_pred)}\n",
        "NN_Final_results"
      ]
    },
    {
      "cell_type": "markdown",
      "metadata": {
        "id": "MXoBnfRBmivL"
      },
      "source": [
        "#Gradient Boosting Regressor"
      ]
    },
    {
      "cell_type": "markdown",
      "metadata": {
        "id": "RkyCpvT1mwA7"
      },
      "source": [
        "##Parameters:<br>\n",
        "1. **Boosting Parameters** : These affect the boosting operation in the model.\n",
        "2. **Tree-Specific Parameters** : These affect each individual tree in the model.\n",
        "\n",
        "3. **Miscellaneous Parameters** : Other parameters for overall functioning.\n",
        "\n",
        "#### >>> Boosting Parameters\n",
        "* ***learning_rate*** : <br>\n",
        "This determines the impact of each tree on the final outcome. GBR works by starting with an initial estimate which is updated using the output of each tree. The learning parameter controls the magnitude of this change in the estimates.<br>\n",
        "Lower values are generally preferred as they make the model robust to the specific characteristics of tree and thus allowing it to generalize well.\n",
        "* ***n_estimators***\n",
        "The number of sequential trees to be modeled.\n",
        "Though GBM is fairly robust at higher number of trees but it can still overfit at a point. Hence, this should be tuned using cross validation for a particular learning rate.\n",
        "* ***subsample***\n",
        "The fraction of observations to be selected for each tree. Selection is done by random sampling.\n",
        "Values slightly less than 1 make the model robust by reducing the variance.\n",
        "Typical values ~0.8 generally work fine but can be fine-tuned further.\n",
        "\n",
        "#### >>> Tree-specific Parameters\n",
        "\n",
        "* ***min_samples_split*** :<br>\n",
        "Defines the minimum number of samples (or observations) which are required in a node to be considered for splitting.\n",
        "Used to control over-fitting. Higher values prevent a model from learning relations which might be highly specific to the particular sample selected for a tree.<br>\n",
        "Too high values can lead to under-fitting hence, it should be tuned using cross validation.\n",
        "* ***max_leaf_nodes*** :<br>\n",
        "The maximum number of terminal nodes or leaves in a tree.\n",
        "\n",
        "\n",
        "#### >>> Miscellaneous Parameters\n",
        "* ***loss*** :<br>\n",
        "It refers to the loss function to be minimized in each split.\n",
        "It can have various values for classification and regression case. Generally the default values work fine. Other values should be chosen only if you understand their impact on the model.\n",
        "* ***random_state*** :<br>\n",
        "The random number seed so that same random numbers are generated every time.\n",
        "This is important for parameter tuning. If we don’t fix the random number, then we’ll have different outcomes for subsequent runs on the same parameters and it becomes difficult to compare models.\n",
        "* ***criterion*** :<br>\n",
        "The function used to measure the quality of a split\n"
      ]
    },
    {
      "cell_type": "markdown",
      "metadata": {
        "id": "w0LVOlqr5KOp"
      },
      "source": [
        "## Boosting Parameters"
      ]
    },
    {
      "cell_type": "markdown",
      "metadata": {
        "id": "F0__q_HG2yWO"
      },
      "source": [
        "###learning_rate"
      ]
    },
    {
      "cell_type": "code",
      "execution_count": null,
      "metadata": {
        "colab": {
          "background_save": true
        },
        "id": "QPGKR49k2njZ"
      },
      "outputs": [],
      "source": [
        "def parameter_LR(XTrain,yTrain,XValid,yValid):\n",
        "  LR = [0.0001,0.001,0.01,0.1,0.2,0.3,0.4,0.55,0.573,0.5,0.6,0.7,0.8,0.9,1]\n",
        "  Results = []\n",
        "  for lr in LR:\n",
        "    model = MultiOutputRegressor(GradientBoostingRegressor(random_state = 1, learning_rate = lr))\n",
        "    model.fit(XTrain,yTrain)\n",
        "    y_pred = model.predict(XValid)\n",
        "    r2score = r2_score(yValid,y_pred)\n",
        "    RMSE = mean_squared_error(yValid,y_pred,squared = False)\n",
        "    MAE = mean_absolute_error(yValid,y_pred)\n",
        "    Results.append((lr, r2score, RMSE, MAE))\n",
        "  Results.sort(key=lambda k:k[2])\n",
        "  return pd.DataFrame(Results,columns=['LR', 'R2 Score', 'RMSE', 'MAE'])"
      ]
    },
    {
      "cell_type": "code",
      "execution_count": null,
      "metadata": {
        "colab": {
          "background_save": true
        },
        "id": "IV0OnvGM3rJN"
      },
      "outputs": [],
      "source": [
        "Results_LR = parameter_LR(X_train,y_train,X_valid,y_valid)\n",
        "Results_LR"
      ]
    },
    {
      "cell_type": "code",
      "execution_count": null,
      "metadata": {
        "colab": {
          "background_save": true
        },
        "id": "xrKg3OCPj2A8"
      },
      "outputs": [],
      "source": [
        "best_LR = Results_LR.iloc[0,0]\n",
        "best_LR"
      ]
    },
    {
      "cell_type": "markdown",
      "metadata": {
        "id": "O_npcWq74nMR"
      },
      "source": [
        "###n_estimators"
      ]
    },
    {
      "cell_type": "code",
      "execution_count": null,
      "metadata": {
        "colab": {
          "background_save": true
        },
        "id": "Q2dVXFaT4eEQ"
      },
      "outputs": [],
      "source": [
        "def parameter_estimator(XTrain,yTrain,XValid,yValid):\n",
        "  estimators = [100,200,300,400,500,700,1000]\n",
        "  Results = []\n",
        "  for estimator in estimators:\n",
        "    model = MultiOutputRegressor(GradientBoostingRegressor(random_state = 1,learning_rate = best_LR,n_estimators = estimator))\n",
        "    model.fit(X_train,y_train)\n",
        "    y_pred = model.predict(X_valid)\n",
        "    r2score = r2_score(y_valid,y_pred)\n",
        "    RMSE = mean_squared_error(y_valid,y_pred,squared = False)\n",
        "    MAE = mean_absolute_error(y_valid,y_pred)\n",
        "    Results.append((estimator, r2score, RMSE, MAE))\n",
        "  Results.sort(key=lambda k:k[2])\n",
        "  return pd.DataFrame(Results,columns=['estimator', 'R2 Score', 'RMSE', 'MAE'])"
      ]
    },
    {
      "cell_type": "code",
      "execution_count": null,
      "metadata": {
        "colab": {
          "background_save": true
        },
        "id": "UvEhpMzRJt6A"
      },
      "outputs": [],
      "source": [
        "Results_estimator = parameter_estimator(X_train,y_train,X_valid,y_valid)\n",
        "Results_estimator"
      ]
    },
    {
      "cell_type": "code",
      "execution_count": null,
      "metadata": {
        "colab": {
          "background_save": true
        },
        "id": "DVKPeqdrlpVd"
      },
      "outputs": [],
      "source": [
        "best_n_estimator = Results_estimator.iloc[0,0]\n",
        "best_n_estimator"
      ]
    },
    {
      "cell_type": "markdown",
      "metadata": {
        "id": "vzfbqDNAdjI0"
      },
      "source": [
        "###subsample"
      ]
    },
    {
      "cell_type": "code",
      "execution_count": null,
      "metadata": {
        "colab": {
          "background_save": true
        },
        "id": "ryF0km39dg-m"
      },
      "outputs": [],
      "source": [
        "def parameter_subsample(XTrain,yTrain,XValid,yValid):\n",
        "  samples = [0.1,0.2,0.3,0.4,0.5,0.6,0.7,0.8,0.9,1]\n",
        "  Results = []\n",
        "  for x in samples:\n",
        "    model = MultiOutputRegressor(GradientBoostingRegressor(random_state = 1, learning_rate = best_LR, n_estimators = best_n_estimator, subsample = x))\n",
        "    model.fit(XTrain,yTrain)\n",
        "    y_pred = model.predict(XValid)\n",
        "    r2score = r2_score(yValid,y_pred)\n",
        "    RMSE = mean_squared_error(yValid,y_pred,squared = False)\n",
        "    MAE = mean_absolute_error(yValid,y_pred)\n",
        "    Results.append((x, r2score, RMSE, MAE))\n",
        "  Results.sort(key=lambda k:k[2])\n",
        "  return pd.DataFrame(Results,columns=['subsample', 'R2 Score', 'RMSE', 'MAE'])"
      ]
    },
    {
      "cell_type": "code",
      "execution_count": null,
      "metadata": {
        "colab": {
          "background_save": true
        },
        "id": "L7V4KNH-dtRd"
      },
      "outputs": [],
      "source": [
        "Results_subsample = parameter_subsample(X_train,y_train,X_valid,y_valid)\n",
        "Results_subsample"
      ]
    },
    {
      "cell_type": "code",
      "execution_count": null,
      "metadata": {
        "colab": {
          "background_save": true
        },
        "id": "eGEU0k5UmQ1T"
      },
      "outputs": [],
      "source": [
        "best_subsample= Results_subsample.iloc[0,0]\n",
        "best_subsample"
      ]
    },
    {
      "cell_type": "markdown",
      "metadata": {
        "id": "lGozavFU6XbP"
      },
      "source": [
        "## Tree-based Parameters"
      ]
    },
    {
      "cell_type": "markdown",
      "metadata": {
        "id": "FxK9uuoRh8CO"
      },
      "source": [
        "###min_samples_split"
      ]
    },
    {
      "cell_type": "code",
      "execution_count": null,
      "metadata": {
        "colab": {
          "background_save": true
        },
        "id": "gD5b0ruxh7dR"
      },
      "outputs": [],
      "source": [
        "def parameter_split(XTrain,yTrain,XValid,yValid):\n",
        "  splits = [2,3,4,5,6,7,8,9,10]\n",
        "  Results = []\n",
        "  for x in splits:\n",
        "    model = MultiOutputRegressor(GradientBoostingRegressor(random_state = 1, learning_rate = best_LR, n_estimators = best_n_estimator,min_samples_split=x))\n",
        "    model.fit(XTrain,yTrain)\n",
        "    y_pred = model.predict(XValid)\n",
        "    r2score = r2_score(yValid,y_pred)\n",
        "    RMSE = mean_squared_error(yValid,y_pred,squared = False)\n",
        "    MAE = mean_absolute_error(yValid,y_pred)\n",
        "    Results.append((x, r2score, RMSE, MAE))\n",
        "  Results.sort(key=lambda k:k[2])\n",
        "  return pd.DataFrame(Results,columns=['min_sample_split', 'R2 Score', 'RMSE', 'MAE'])"
      ]
    },
    {
      "cell_type": "code",
      "execution_count": null,
      "metadata": {
        "colab": {
          "background_save": true
        },
        "id": "NbGD6FVtiKlt"
      },
      "outputs": [],
      "source": [
        "Results_split = parameter_split(X_train,y_train,X_valid,y_valid)\n",
        "Results_split"
      ]
    },
    {
      "cell_type": "code",
      "execution_count": null,
      "metadata": {
        "colab": {
          "background_save": true
        },
        "id": "UmA84nYKnMP9"
      },
      "outputs": [],
      "source": [
        "best_split= Results_split.iloc[0,0]\n",
        "best_split"
      ]
    },
    {
      "cell_type": "markdown",
      "metadata": {
        "id": "_USua_USj8ra"
      },
      "source": [
        "###max_leaf_nodes"
      ]
    },
    {
      "cell_type": "code",
      "execution_count": null,
      "metadata": {
        "colab": {
          "background_save": true
        },
        "id": "BTlGuHrhkBfZ"
      },
      "outputs": [],
      "source": [
        "def parameter_nodes(XTrain,yTrain,XValid,yValid):\n",
        "  nodes = [2,3,4,5,6,7,8,9,10]\n",
        "  Results = []\n",
        "  for x in nodes:\n",
        "    model = MultiOutputRegressor(GradientBoostingRegressor(random_state = 1, learning_rate = best_LR, n_estimators = best_n_estimator,min_samples_split=best_split, max_leaf_nodes = x))\n",
        "    model.fit(XTrain,yTrain)\n",
        "    y_pred = model.predict(XValid)\n",
        "    r2score = r2_score(yValid,y_pred)\n",
        "    RMSE = mean_squared_error(yValid,y_pred,squared = False)\n",
        "    MAE = mean_absolute_error(yValid,y_pred)\n",
        "    Results.append((x, r2score, RMSE, MAE))\n",
        "  Results.sort(key=lambda k:k[2])\n",
        "  return pd.DataFrame(Results,columns=['max_leaf_nodes', 'R2 Score', 'RMSE', 'MAE'])"
      ]
    },
    {
      "cell_type": "code",
      "execution_count": null,
      "metadata": {
        "colab": {
          "background_save": true
        },
        "id": "lUuUSF7W6ybT"
      },
      "outputs": [],
      "source": [
        "Results_nodes = parameter_nodes(X_train,y_train,X_valid,y_valid)\n",
        "Results_nodes"
      ]
    },
    {
      "cell_type": "code",
      "execution_count": null,
      "metadata": {
        "colab": {
          "background_save": true
        },
        "id": "8EGMQ0wM7m9G"
      },
      "outputs": [],
      "source": [
        "best_ln = Results_nodes.iloc[0,0]\n",
        "best_ln"
      ]
    },
    {
      "cell_type": "code",
      "execution_count": null,
      "metadata": {
        "colab": {
          "background_save": true
        },
        "id": "YW4UDG2qBYyX"
      },
      "outputs": [],
      "source": [
        "# Results_features"
      ]
    },
    {
      "cell_type": "code",
      "execution_count": null,
      "metadata": {
        "colab": {
          "background_save": true
        },
        "id": "R6xOiG7MAfuI"
      },
      "outputs": [],
      "source": [
        "# best_max_features = Results_features.iloc[0,0]\n",
        "# best_max_features"
      ]
    },
    {
      "cell_type": "markdown",
      "metadata": {
        "id": "ARuoA2nM6bZq"
      },
      "source": [
        "## Miscellaneous Parameters"
      ]
    },
    {
      "cell_type": "markdown",
      "metadata": {
        "id": "RxpNv3Dnrc3m"
      },
      "source": [
        "###loss"
      ]
    },
    {
      "cell_type": "code",
      "execution_count": null,
      "metadata": {
        "colab": {
          "background_save": true
        },
        "id": "Ae4J_cHducEt"
      },
      "outputs": [],
      "source": [
        "def parameter_loss(XTrain,yTrain,XValid,yValid):\n",
        "  losses = [\"squared_error\",\"absolute_error\",\"huber\",\"quantile\"]\n",
        "  Results = []\n",
        "  for x in losses:\n",
        "    model = MultiOutputRegressor(GradientBoostingRegressor(random_state = 1, learning_rate = best_LR, n_estimators = best_n_estimator,min_samples_split=best_split,max_leaf_nodes = best_ln , loss = x))\n",
        "    model.fit(XTrain,yTrain)\n",
        "    y_pred = model.predict(XValid)\n",
        "    r2score = r2_score(yValid,y_pred)\n",
        "    RMSE = mean_squared_error(yValid,y_pred,squared = False)\n",
        "    MAE = mean_absolute_error(yValid,y_pred)\n",
        "    Results.append((x, r2score, RMSE, MAE))\n",
        "  Results.sort(key=lambda k:k[2])\n",
        "  return pd.DataFrame(Results,columns=['Loss', 'R2 Score', 'RMSE', 'MAE'])"
      ]
    },
    {
      "cell_type": "code",
      "execution_count": null,
      "metadata": {
        "colab": {
          "background_save": true
        },
        "id": "GmxBdz5bmgPc"
      },
      "outputs": [],
      "source": [
        "Results_loss = parameter_loss(X_train,y_train,X_valid,y_valid)"
      ]
    },
    {
      "cell_type": "code",
      "execution_count": null,
      "metadata": {
        "colab": {
          "background_save": true
        },
        "id": "JzJHq9WiwbMl"
      },
      "outputs": [],
      "source": [
        "Results_loss"
      ]
    },
    {
      "cell_type": "code",
      "execution_count": null,
      "metadata": {
        "colab": {
          "background_save": true
        },
        "id": "DzcuVziPBLGf"
      },
      "outputs": [],
      "source": [
        "best_loss = Results_loss.iloc[0,0]\n",
        "best_loss"
      ]
    },
    {
      "cell_type": "markdown",
      "metadata": {
        "id": "NmN6G8pV9L1P"
      },
      "source": [
        "###criterion"
      ]
    },
    {
      "cell_type": "code",
      "execution_count": null,
      "metadata": {
        "colab": {
          "background_save": true
        },
        "id": "EhSbu0969xRo"
      },
      "outputs": [],
      "source": [
        "def parameter_criterion(XTrain,yTrain,XValid,yValid):\n",
        "  criterion = ['friedman_mse', 'squared_error']\n",
        "  Results = []\n",
        "  for x in criterion:\n",
        "    model = MultiOutputRegressor(GradientBoostingRegressor(random_state = 1, learning_rate = best_LR, n_estimators = best_n_estimator,min_samples_split=best_split,max_leaf_nodes = best_ln ,loss = best_loss,criterion = x))\n",
        "    model.fit(XTrain,yTrain)\n",
        "    y_pred = model.predict(XValid)\n",
        "    r2score = r2_score(yValid,y_pred)\n",
        "    RMSE = mean_squared_error(yValid,y_pred,squared = False)\n",
        "    MAE = mean_absolute_error(yValid,y_pred)\n",
        "    Results.append((x, r2score, RMSE, MAE))\n",
        "  Results.sort(key=lambda k:k[2])\n",
        "  return pd.DataFrame(Results,columns=['subsample', 'R2 Score', 'RMSE', 'MAE'])"
      ]
    },
    {
      "cell_type": "code",
      "execution_count": null,
      "metadata": {
        "colab": {
          "background_save": true
        },
        "id": "vd9bH4BC93W5"
      },
      "outputs": [],
      "source": [
        "Results_criterion = parameter_criterion(X_train,y_train,X_valid,y_valid)\n"
      ]
    },
    {
      "cell_type": "code",
      "execution_count": null,
      "metadata": {
        "colab": {
          "background_save": true
        },
        "id": "-kDS6IwDCDOs"
      },
      "outputs": [],
      "source": [
        "Results_criterion"
      ]
    },
    {
      "cell_type": "code",
      "execution_count": null,
      "metadata": {
        "colab": {
          "background_save": true
        },
        "id": "haxfwvkCCFfP"
      },
      "outputs": [],
      "source": [
        "best_criterion = Results_criterion.iloc[0,0]\n",
        "best_criterion"
      ]
    },
    {
      "cell_type": "markdown",
      "metadata": {
        "id": "gM8uFjIZ_Od2"
      },
      "source": [
        "#GB Tuned Results"
      ]
    },
    {
      "cell_type": "markdown",
      "metadata": {
        "id": "Y8BTfYxQHVRJ"
      },
      "source": [
        "### GB Tuned Parameters:\n",
        "\n"
      ]
    },
    {
      "cell_type": "code",
      "execution_count": null,
      "metadata": {
        "colab": {
          "background_save": true
        },
        "id": "Cz_7xpkPHhEU"
      },
      "outputs": [],
      "source": [
        "print(\"Learning_Rate: \",best_LR)\n",
        "print(\"n_estimator: \",best_n_estimator)\n",
        "print(\"min_samples_split: \",best_split)\n",
        "print(\"max_leaf_nodes: \",best_ln)\n",
        "print(\"loss: \", best_loss)\n",
        "print(\"Criterion: \",best_criterion)"
      ]
    },
    {
      "cell_type": "code",
      "execution_count": null,
      "metadata": {
        "colab": {
          "background_save": true
        },
        "id": "q6z6Qx4ZCoxy"
      },
      "outputs": [],
      "source": [
        "Final_validation_model = MultiOutputRegressor(GradientBoostingRegressor(random_state = 1, learning_rate = best_LR, n_estimators = best_n_estimator,min_samples_split=best_split,max_leaf_nodes = best_ln ,loss = best_loss,criterion = best_criterion))\n",
        "Final_validation_model.fit(X_train,y_train)\n",
        "final_validation_pred = Final_validation_model.predict(X_valid)"
      ]
    },
    {
      "cell_type": "code",
      "execution_count": null,
      "metadata": {
        "colab": {
          "background_save": true
        },
        "id": "s5YJONgxC0gR"
      },
      "outputs": [],
      "source": [
        "Final_validation_results = {'r2score':r2_score(y_valid,final_validation_pred),'rmse':mean_squared_error(y_valid,final_validation_pred,squared=False),'mae':mean_absolute_error(y_valid,final_validation_pred)}\n",
        "Final_validation_results"
      ]
    },
    {
      "cell_type": "markdown",
      "metadata": {
        "id": "Ot8KgPeKLr5u"
      },
      "source": [
        "###Predictions"
      ]
    },
    {
      "cell_type": "code",
      "execution_count": null,
      "metadata": {
        "colab": {
          "background_save": true
        },
        "id": "iWk95DFRB6Vp"
      },
      "outputs": [],
      "source": [
        "Final_model = MultiOutputRegressor(GradientBoostingRegressor(random_state = 1, learning_rate = best_LR, n_estimators = best_n_estimator,min_samples_split=best_split,max_leaf_nodes = best_ln ,loss = best_loss,criterion = best_criterion))\n",
        "Final_model.fit(X_train,y_train)\n",
        "final_pred = Final_model.predict(X_test)"
      ]
    },
    {
      "cell_type": "code",
      "execution_count": null,
      "metadata": {
        "colab": {
          "background_save": true
        },
        "id": "RPTy3PIKCef8"
      },
      "outputs": [],
      "source": [
        "Final_results = {'r2score':r2_score(y_test,final_pred),'rmse':mean_squared_error(y_test,final_pred,squared=False),'mae':mean_absolute_error(y_test,final_pred)}\n",
        "Final_results"
      ]
    },
    {
      "cell_type": "code",
      "execution_count": null,
      "metadata": {
        "colab": {
          "background_save": true
        },
        "id": "nPfiYojHFL4n"
      },
      "outputs": [],
      "source": [
        "Final_pred = sc.inverse_transform(final_pred)\n",
        "GB_predicted_yield_strength = np.transpose(Final_pred)[0]\n",
        "GB_predicted_tensile_strength = np.transpose(Final_pred)[1]\n",
        "GB_predicted_pct_elongation = np.transpose(Final_pred)[2]"
      ]
    },
    {
      "cell_type": "code",
      "execution_count": null,
      "metadata": {
        "colab": {
          "background_save": true
        },
        "id": "RpcEYSJVNz5E"
      },
      "outputs": [],
      "source": [
        "Final_pred = pd.DataFrame(Final_pred,columns = y_test.columns)"
      ]
    },
    {
      "cell_type": "code",
      "execution_count": null,
      "metadata": {
        "colab": {
          "background_save": true
        },
        "id": "OedsS5CLOcGG"
      },
      "outputs": [],
      "source": [
        "y_Test = pd.DataFrame(y_Test,columns = y_test.columns)\n"
      ]
    },
    {
      "cell_type": "markdown",
      "metadata": {
        "id": "5f_u70viNwoX"
      },
      "source": [
        "###Graphical Visualization"
      ]
    },
    {
      "cell_type": "code",
      "execution_count": null,
      "metadata": {
        "colab": {
          "background_save": true
        },
        "id": "bbV2SUPIHt_o"
      },
      "outputs": [],
      "source": [
        "fig ,(ax0) = plt.subplots(figsize=(16,8))\n",
        "ax0.scatter(GB_predicted_yield_strength, actual_yield_strength, color = 'hotpink', s=18)\n",
        "x3 = np.linspace(1000, 2500, 1000)\n",
        "y3 = x3\n",
        "ax0.plot(x3, y3)\n",
        "ax0.set_title('Yield Strength', fontsize = 20)\n",
        "ax0.set_xlabel('predicted_yield_strength', fontsize = 14)\n",
        "ax0.set_ylabel('actual_yield_strength', fontsize = 14)\n",
        "plt.show()"
      ]
    },
    {
      "cell_type": "code",
      "execution_count": null,
      "metadata": {
        "colab": {
          "background_save": true
        },
        "id": "cOf29F7tJl5X"
      },
      "outputs": [],
      "source": [
        "fig ,(ax1) = plt.subplots(figsize=(16,8))\n",
        "ax1.scatter(GB_predicted_tensile_strength, actual_tensile_strength, color = 'hotpink', s=18)\n",
        "x4 = np.linspace(1000, 2500, 1000)\n",
        "y4 = x4\n",
        "ax1.plot(x4, y4)\n",
        "ax1.set_title('Tensile Strength', fontsize = 20)\n",
        "ax1.set_xlabel('predicted_tensile_strength', fontsize = 14)\n",
        "ax1.set_ylabel('actual_tensile_strength', fontsize = 14)\n",
        "\n",
        "plt.show()"
      ]
    },
    {
      "cell_type": "code",
      "execution_count": null,
      "metadata": {
        "colab": {
          "background_save": true
        },
        "id": "5b0uTGKGIl_Q"
      },
      "outputs": [],
      "source": [
        "fig ,(ax2) = plt.subplots(figsize=(16,8))\n",
        "ax2.scatter(GB_predicted_pct_elongation, actual_pct_elongation, color = 'hotpink', s=18)\n",
        "x3 = np.linspace(0, 40, 1000)\n",
        "y3 = x3\n",
        "ax2.plot(x3, y3)\n",
        "ax2.set_title('% Elongation', fontsize = 20)\n",
        "ax2.set_xlabel('predicted_pct_elongation', fontsize = 14)\n",
        "ax2.set_ylabel('actual_pct_elongation', fontsize = 14)"
      ]
    },
    {
      "cell_type": "markdown",
      "metadata": {
        "id": "I0qu27lKk8i9"
      },
      "source": [
        "\n",
        "\n",
        "---\n",
        "\n",
        "\n",
        "\n",
        "---\n",
        "\n",
        "\n",
        "\n",
        "---\n",
        "\n",
        "\n",
        "\n",
        "---\n",
        "\n"
      ]
    },
    {
      "cell_type": "markdown",
      "metadata": {
        "id": "qfIqm1woMY1i"
      },
      "source": [
        "# Random Forest Regressor Hypertuning"
      ]
    },
    {
      "cell_type": "code",
      "execution_count": null,
      "metadata": {
        "colab": {
          "background_save": true
        },
        "id": "SHN9KTvTa8dB"
      },
      "outputs": [],
      "source": [
        "rfr = RandomForestRegressor()\n",
        "parameters = {\n",
        "    \"n_estimators\":[5,10,50,75,100,200,300],\n",
        "    \"max_depth\":[2,4,8,16,32,64,None]\n",
        "\n",
        "}"
      ]
    },
    {
      "cell_type": "code",
      "execution_count": null,
      "metadata": {
        "colab": {
          "background_save": true
        },
        "id": "TKrZOyX-bUYA"
      },
      "outputs": [],
      "source": [
        "from sklearn.model_selection import GridSearchCV\n",
        "cv = GridSearchCV(rfr,parameters,cv=10)\n",
        "cv.fit(X_train,y_train)"
      ]
    },
    {
      "cell_type": "code",
      "execution_count": null,
      "metadata": {
        "colab": {
          "background_save": true
        },
        "id": "CfhIe3g7LHHS"
      },
      "outputs": [],
      "source": [
        "best_params = cv.best_params_"
      ]
    },
    {
      "cell_type": "code",
      "execution_count": null,
      "metadata": {
        "colab": {
          "background_save": true
        },
        "id": "DzVU1Rt1LLDt"
      },
      "outputs": [],
      "source": [
        "best_rfr = RandomForestRegressor(n_estimators=best_params['n_estimators'],\n",
        "                                   max_depth=best_params['max_depth'])\n"
      ]
    },
    {
      "cell_type": "code",
      "execution_count": null,
      "metadata": {
        "colab": {
          "background_save": true
        },
        "id": "cuwZBgEwMNKj"
      },
      "outputs": [],
      "source": [
        "best_rfr.fit(X_train, y_train)"
      ]
    },
    {
      "cell_type": "code",
      "execution_count": null,
      "metadata": {
        "colab": {
          "background_save": true
        },
        "id": "SLsj9wJmK_E5"
      },
      "outputs": [],
      "source": [
        "y_rfr_pred = best_rfr.predict(X_test)"
      ]
    },
    {
      "cell_type": "code",
      "execution_count": null,
      "metadata": {
        "colab": {
          "background_save": true
        },
        "id": "7rJFxkaGMlNe"
      },
      "outputs": [],
      "source": [
        "Final_rfr_results = {'r2score':r2_score(y_test,y_rfr_pred),'rmse':mean_squared_error(y_test,y_rfr_pred,squared=False),'mae':mean_absolute_error(y_test,y_rfr_pred)}\n",
        "Final_rfr_results"
      ]
    }
  ],
  "metadata": {
    "colab": {
      "provenance": []
    },
    "kernelspec": {
      "display_name": "Python 3",
      "name": "python3"
    },
    "language_info": {
      "name": "python"
    }
  },
  "nbformat": 4,
  "nbformat_minor": 0
}